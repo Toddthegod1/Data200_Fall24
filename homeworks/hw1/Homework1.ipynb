{
 "cells": [
  {
   "cell_type": "markdown",
   "id": "c221e454-3d89-4e41-b28c-efbbcba7012d",
   "metadata": {},
   "source": [
    "Todd Klinger:"
   ]
  },
  {
   "cell_type": "code",
   "execution_count": 67,
   "id": "cdf8b711-2e22-4b36-b65f-4f4ae5697605",
   "metadata": {},
   "outputs": [],
   "source": [
    "import numpy as np\n",
    "import os"
   ]
  },
  {
   "cell_type": "code",
   "execution_count": 69,
   "id": "f39e414a-4dbc-42cc-b6f0-2ff1d3fd936c",
   "metadata": {},
   "outputs": [
    {
     "name": "stdout",
     "output_type": "stream",
     "text": [
      " Volume in drive C is OS\n",
      " Volume Serial Number is F802-CD04\n",
      "\n",
      " Directory of C:\\Users\\toddj\\OneDrive - Dickinson College\\Documents\\GitHub\\hw1-Toddthegod1\\homeworks\\hw1\\data\n",
      "\n",
      "09/16/2024  09:09 PM    <DIR>          .\n",
      "09/16/2024  09:09 PM    <DIR>          ..\n",
      "09/16/2024  09:09 PM               112 babyNames.txt\n",
      "09/16/2024  10:53 PM               488 quotes.txt\n",
      "09/16/2024  09:09 PM               648 summerDay.txt\n",
      "               3 File(s)          1,248 bytes\n",
      "               2 Dir(s)  58,184,077,312 bytes free\n"
     ]
    }
   ],
   "source": [
    "ls"
   ]
  },
  {
   "cell_type": "code",
   "execution_count": 71,
   "id": "43286097-b3dc-4f8f-a715-61cda300d5ad",
   "metadata": {},
   "outputs": [
    {
     "name": "stdout",
     "output_type": "stream",
     "text": [
      "C:\\Users\\toddj\\OneDrive - Dickinson College\\Documents\\GitHub\\hw1-Toddthegod1\\homeworks\\hw1\\data\n"
     ]
    }
   ],
   "source": [
    "cd \"C:\\Users\\toddj\\OneDrive - Dickinson College\\Documents\\GitHub\\hw1-Toddthegod1\\homeworks\\hw1\\data\""
   ]
  },
  {
   "cell_type": "code",
   "execution_count": 73,
   "id": "aca2cb55-2f4e-4cfa-bb22-b56c4a1a8b58",
   "metadata": {},
   "outputs": [
    {
     "name": "stdout",
     "output_type": "stream",
     "text": [
      " Volume in drive C is OS\n",
      " Volume Serial Number is F802-CD04\n",
      "\n",
      " Directory of C:\\Users\\toddj\\OneDrive - Dickinson College\\Documents\\GitHub\\hw1-Toddthegod1\\homeworks\\hw1\\data\n",
      "\n",
      "09/16/2024  09:09 PM    <DIR>          .\n",
      "09/16/2024  09:09 PM    <DIR>          ..\n",
      "09/16/2024  09:09 PM               112 babyNames.txt\n",
      "09/16/2024  10:53 PM               488 quotes.txt\n",
      "09/16/2024  09:09 PM               648 summerDay.txt\n",
      "               3 File(s)          1,248 bytes\n",
      "               2 Dir(s)  58,184,044,544 bytes free\n"
     ]
    }
   ],
   "source": [
    "ls"
   ]
  },
  {
   "cell_type": "code",
   "execution_count": 75,
   "id": "0e0c3c32-7d7b-4558-981d-b17ca78f55ff",
   "metadata": {},
   "outputs": [],
   "source": [
    "file = open(\"quotes.txt\", \"r\")"
   ]
  },
  {
   "cell_type": "code",
   "execution_count": 77,
   "id": "bcf09e8e-7b9e-4dc8-90e0-c46a0cee692b",
   "metadata": {},
   "outputs": [],
   "source": [
    "first_line = file.readline()"
   ]
  },
  {
   "cell_type": "code",
   "execution_count": 79,
   "id": "4f66b327-8f9d-4094-afcb-271e684bab4f",
   "metadata": {},
   "outputs": [
    {
     "name": "stdout",
     "output_type": "stream",
     "text": [
      "When you reach the end of your rope, tie a knot in it and hang on.\n",
      "\n"
     ]
    }
   ],
   "source": [
    "print(first_line)"
   ]
  },
  {
   "cell_type": "code",
   "execution_count": 81,
   "id": "64d9b874-4947-4e1d-b3a5-d9105f00752e",
   "metadata": {},
   "outputs": [],
   "source": [
    "file.close()"
   ]
  },
  {
   "cell_type": "code",
   "execution_count": 83,
   "id": "c9d99d3f-8957-4186-8efa-0b703bf12663",
   "metadata": {},
   "outputs": [],
   "source": [
    "file = open(\"quotes.txt\", \"r\")"
   ]
  },
  {
   "cell_type": "code",
   "execution_count": 85,
   "id": "b24d9c25-5a99-405f-8b14-fa8fd69d1b74",
   "metadata": {},
   "outputs": [],
   "source": [
    "lines = file.readlines()"
   ]
  },
  {
   "cell_type": "code",
   "execution_count": 87,
   "id": "8f3f6dc9-64f8-4737-a021-0119fee821ec",
   "metadata": {},
   "outputs": [
    {
     "name": "stdout",
     "output_type": "stream",
     "text": [
      "When you reach the end of your rope, tie a knot in it and hang on.\n",
      "\n",
      "Franklin D. Roosevelt\n",
      "\n",
      "Always remember that you are absolutely unique. Just like everyone else.\n",
      "\n",
      "Margaret Mead\n",
      "\n",
      "The best and most beautiful things in the world cannot be seen or even touched â€” they must be felt with the heart.\n",
      "\n",
      "Helen Keller\n",
      "\n",
      "Success depends upon previous preparation, and without such preparation, there is sure to be failure.\n",
      "\n",
      "Confucius\n",
      "\n",
      "The journey of a thousand miles begins with one step.\n",
      "\n",
      "Lao Tzu\n"
     ]
    }
   ],
   "source": [
    "for line in lines:\n",
    "    print(line)"
   ]
  },
  {
   "cell_type": "code",
   "execution_count": 89,
   "id": "71cb72be-c141-4444-b8cb-931f8786f004",
   "metadata": {},
   "outputs": [],
   "source": [
    "file.close()"
   ]
  },
  {
   "cell_type": "code",
   "execution_count": 91,
   "id": "83dcb028-261b-44dd-98e8-933fc381bc33",
   "metadata": {},
   "outputs": [],
   "source": [
    "s1 = \"Yeah, we fancy like Applebee's on a date night\"\n",
    "s2 = \"Got that Bourbon Street steak with the Oreo shake\"\n",
    "s3 = \"Get some whipped cream on the top too\"\n",
    "s4 = \"Two straws, one check, girl, I got you\""
   ]
  },
  {
   "cell_type": "code",
   "execution_count": 93,
   "id": "1a750e08-eafd-4feb-b37c-590b32d95aa5",
   "metadata": {},
   "outputs": [],
   "source": [
    "words_s1 = s1.split()"
   ]
  },
  {
   "cell_type": "code",
   "execution_count": 95,
   "id": "37154aac-e6b8-499c-9945-6ee64d0ea65a",
   "metadata": {},
   "outputs": [
    {
     "name": "stdout",
     "output_type": "stream",
     "text": [
      "Applebee's\n"
     ]
    }
   ],
   "source": [
    "print(words_s1[4])"
   ]
  },
  {
   "cell_type": "code",
   "execution_count": 97,
   "id": "c94c93fb-aaea-4c5d-b79f-9fe8295423c7",
   "metadata": {},
   "outputs": [],
   "source": [
    "words_s2 = s2.split()"
   ]
  },
  {
   "cell_type": "code",
   "execution_count": 99,
   "id": "149765a5-948f-414e-8fe7-27667e75de3a",
   "metadata": {},
   "outputs": [
    {
     "name": "stdout",
     "output_type": "stream",
     "text": [
      "shake\n"
     ]
    }
   ],
   "source": [
    "print(words_s2[-1])"
   ]
  },
  {
   "cell_type": "code",
   "execution_count": 101,
   "id": "68e7bb76-b62b-4751-98e3-f97974df6297",
   "metadata": {},
   "outputs": [],
   "source": [
    "file = open(\"quotes.txt\")"
   ]
  },
  {
   "cell_type": "code",
   "execution_count": 102,
   "id": "31a91089-004d-412c-9e4e-af3a6d8c335e",
   "metadata": {},
   "outputs": [],
   "source": [
    "lines = file.read()"
   ]
  },
  {
   "cell_type": "code",
   "execution_count": 105,
   "id": "e1cbda95-f0c2-4aab-ab37-f672ba94e5a4",
   "metadata": {},
   "outputs": [],
   "source": [
    "words = lines.split()"
   ]
  },
  {
   "cell_type": "code",
   "execution_count": 107,
   "id": "f1fdef9b-d538-4957-b4f0-af25b417f43b",
   "metadata": {},
   "outputs": [],
   "source": [
    "num_words = len(words)"
   ]
  },
  {
   "cell_type": "code",
   "execution_count": 109,
   "id": "e37cb016-36d8-4cde-997c-6025917c3733",
   "metadata": {},
   "outputs": [
    {
     "name": "stdout",
     "output_type": "stream",
     "text": [
      "The number of words is 85\n"
     ]
    }
   ],
   "source": [
    "print(\"The number of words is\", num_words)"
   ]
  },
  {
   "cell_type": "code",
   "execution_count": 111,
   "id": "93dbabd8-fde8-43d1-af5a-75a49b038141",
   "metadata": {},
   "outputs": [
    {
     "data": {
      "text/plain": [
       "'data\\\\summerDay.txt'"
      ]
     },
     "execution_count": 111,
     "metadata": {},
     "output_type": "execute_result"
    }
   ],
   "source": [
    "filepath"
   ]
  },
  {
   "cell_type": "code",
   "execution_count": 112,
   "id": "59f22886-ae20-4a0a-b56d-2441ea12c133",
   "metadata": {},
   "outputs": [],
   "source": [
    "file = open(\"quotes.txt\", \"r\")"
   ]
  },
  {
   "cell_type": "code",
   "execution_count": 115,
   "id": "f9b3bda7-009b-4570-8c70-76ba65040827",
   "metadata": {},
   "outputs": [],
   "source": [
    "lines = file.readlines()"
   ]
  },
  {
   "cell_type": "code",
   "execution_count": 117,
   "id": "0f86e2ae-e709-4e41-a744-3f864279a21d",
   "metadata": {},
   "outputs": [],
   "source": [
    "index_list = []\n",
    "wordLength_list = []\n",
    "toupled_list = []\n",
    "i = 0\n",
    "for line in lines:\n",
    "    i += 1\n",
    "    index_list.append(i)\n",
    "    wordLength_list.append(len(line.split()))\n",
    "    toupled_list.append([index_list[i - 1], wordLength_list[i - 1]])\n",
    "    \n",
    "    \n",
    "    "
   ]
  },
  {
   "cell_type": "code",
   "execution_count": 119,
   "id": "8717d619-c455-4018-867a-9a0562ce0d2e",
   "metadata": {},
   "outputs": [],
   "source": [
    "file.close()"
   ]
  },
  {
   "cell_type": "code",
   "execution_count": 121,
   "id": "29f765d0-7f72-44cf-8373-84f0a3c0dd52",
   "metadata": {},
   "outputs": [
    {
     "name": "stdout",
     "output_type": "stream",
     "text": [
      "[[1, 16], [2, 3], [3, 11], [4, 2], [5, 23], [6, 2], [7, 15], [8, 1], [9, 10], [10, 2]]\n"
     ]
    }
   ],
   "source": [
    "\n",
    "print(toupled_list)"
   ]
  },
  {
   "cell_type": "code",
   "execution_count": 123,
   "id": "dd887627-cb45-4b71-8805-89d78c698bd1",
   "metadata": {},
   "outputs": [],
   "source": [
    "def numWordsPerLine(filepath):\n",
    "    index_list = []\n",
    "    wordLength_list = []\n",
    "    filepath = []\n",
    "    i = 0\n",
    "    for line in lines:\n",
    "        i += 1\n",
    "        index_list.append(i)\n",
    "        wordLength_list.append(len(line.split()))\n",
    "        filepath.append([index_list[i - 1], wordLength_list[i - 1]])\n",
    "    return filepath\n",
    "\n"
   ]
  },
  {
   "cell_type": "code",
   "execution_count": 125,
   "id": "d4e87d5b-2384-4f69-9f50-a17653a323cd",
   "metadata": {},
   "outputs": [
    {
     "data": {
      "text/plain": [
       "[[1, 16],\n",
       " [2, 3],\n",
       " [3, 11],\n",
       " [4, 2],\n",
       " [5, 23],\n",
       " [6, 2],\n",
       " [7, 15],\n",
       " [8, 1],\n",
       " [9, 10],\n",
       " [10, 2]]"
      ]
     },
     "execution_count": 125,
     "metadata": {},
     "output_type": "execute_result"
    }
   ],
   "source": [
    "numWordsPerLine(file)"
   ]
  },
  {
   "cell_type": "code",
   "execution_count": 127,
   "id": "8d4332d2-b737-412f-b6f7-3714e02998b1",
   "metadata": {},
   "outputs": [],
   "source": [
    "import os \n",
    "datadir = \"data\""
   ]
  },
  {
   "cell_type": "code",
   "execution_count": 129,
   "id": "52cbe8a0-ba82-4493-bc77-01cfd653db0e",
   "metadata": {},
   "outputs": [
    {
     "data": {
      "text/plain": [
       "[[1, 8],\n",
       " [2, 7],\n",
       " [3, 9],\n",
       " [4, 9],\n",
       " [5, 8],\n",
       " [6, 7],\n",
       " [7, 7],\n",
       " [8, 7],\n",
       " [9, 7],\n",
       " [10, 8],\n",
       " [11, 9],\n",
       " [12, 8],\n",
       " [13, 10],\n",
       " [14, 10]]"
      ]
     },
     "execution_count": 129,
     "metadata": {},
     "output_type": "execute_result"
    }
   ],
   "source": [
    "file = open(\"summerDay.txt\", \"r\")\n",
    "lines = file.readlines()\n",
    "filepath = os.path.join(datadir, \"summerDay.txt\")\n",
    "numWordsPerLine(filepath)\n"
   ]
  },
  {
   "cell_type": "code",
   "execution_count": 135,
   "id": "20635785-b2dc-4f94-80db-30b6760b0540",
   "metadata": {},
   "outputs": [],
   "source": [
    "file.close()"
   ]
  },
  {
   "cell_type": "code",
   "execution_count": 145,
   "id": "82f92bc5-76d2-4f4c-9b03-7956feefe116",
   "metadata": {},
   "outputs": [],
   "source": []
  },
  {
   "cell_type": "code",
   "execution_count": 143,
   "id": "49ae04cd-009d-4152-94be-73a2b48b9069",
   "metadata": {},
   "outputs": [
    {
     "name": "stdout",
     "output_type": "stream",
     "text": [
      " Volume in drive C is OS\n",
      " Volume Serial Number is F802-CD04\n",
      "\n",
      " Directory of C:\\Users\\toddj\\OneDrive - Dickinson College\\Documents\\GitHub\\hw1-Toddthegod1\\homeworks\\hw1\\data\n",
      "\n",
      "09/16/2024  09:09 PM    <DIR>          .\n",
      "09/16/2024  09:09 PM    <DIR>          ..\n",
      "09/16/2024  09:09 PM               112 babyNames.txt\n",
      "09/16/2024  10:53 PM               488 quotes.txt\n",
      "09/16/2024  09:09 PM               648 summerDay.txt\n",
      "               3 File(s)          1,248 bytes\n",
      "               2 Dir(s)  57,797,230,592 bytes free\n"
     ]
    }
   ],
   "source": []
  },
  {
   "cell_type": "code",
   "execution_count": 153,
   "id": "0fd2f60b-64f4-467f-b742-26b2cf48de6a",
   "metadata": {},
   "outputs": [
    {
     "name": "stdout",
     "output_type": "stream",
     "text": [
      "['Jacob', 'Ethan', 'Michael', 'Jayden', 'William', 'Alexander']\n",
      "[22127, 18002, 17350, 17179, 17051, 16756]\n"
     ]
    }
   ],
   "source": [
    "\n",
    "def readNamesCounts(filepath):\n",
    "    namelist = []\n",
    "    countlist = []\n",
    "    ## FINISH THE FUNCTION HERE\n",
    "    file = open(\"babyNames.txt\", \"r\")\n",
    "    for line in file:\n",
    "        line = line.strip()\n",
    "        count, name = line.split(',')\n",
    "        countlist.append(int(count.strip()))\n",
    "        namelist.append(name.strip())\n",
    "    return namelist, countlist\n",
    "        \n",
    "filepath = os.path.join(datadir, \"babyNames.txt\")\n",
    "namelist, countlist = readNamesCounts(filepath)\n",
    "print(namelist)\n",
    "print(countlist)"
   ]
  },
  {
   "cell_type": "code",
   "execution_count": null,
   "id": "7389a706-0e87-47c6-a257-b02a2d2927bc",
   "metadata": {},
   "outputs": [],
   "source": []
  },
  {
   "cell_type": "code",
   "execution_count": null,
   "id": "4564d579-67d2-4445-9c0e-660feda1742c",
   "metadata": {},
   "outputs": [],
   "source": []
  }
 ],
 "metadata": {
  "kernelspec": {
   "display_name": "Python 3 (ipykernel)",
   "language": "python",
   "name": "python3"
  },
  "language_info": {
   "codemirror_mode": {
    "name": "ipython",
    "version": 3
   },
   "file_extension": ".py",
   "mimetype": "text/x-python",
   "name": "python",
   "nbconvert_exporter": "python",
   "pygments_lexer": "ipython3",
   "version": "3.12.4"
  }
 },
 "nbformat": 4,
 "nbformat_minor": 5
}
