{
 "cells": [
  {
   "cell_type": "code",
   "execution_count": 1,
   "id": "0bd415b6-a8ed-4c65-a7b7-e192e6fc4043",
   "metadata": {},
   "outputs": [],
   "source": [
    "import numpy as np"
   ]
  },
  {
   "cell_type": "code",
   "execution_count": 3,
   "id": "e2b6194e-3329-49e5-9455-a5269caa765f",
   "metadata": {},
   "outputs": [],
   "source": [
    "values = [23, 19, 34, 50]"
   ]
  },
  {
   "cell_type": "code",
   "execution_count": 5,
   "id": "b8e0f112-8452-46ee-a1c9-349a464cbe4b",
   "metadata": {},
   "outputs": [
    {
     "name": "stdout",
     "output_type": "stream",
     "text": [
      "[23 19 34 50]\n"
     ]
    }
   ],
   "source": [
    "np_values = np.array(values)\n",
    "print(np_values)"
   ]
  },
  {
   "cell_type": "code",
   "execution_count": 13,
   "id": "81126e21-50cd-427f-9e08-dece7600a794",
   "metadata": {},
   "outputs": [
    {
     "name": "stdout",
     "output_type": "stream",
     "text": [
      "[12 13 14 15 16 17 18 19 20 21 22 23 24 25 26 27 28 29 30 31 32 33 34 35]\n"
     ]
    }
   ],
   "source": [
    "x = np.arange(12,36)\n",
    "print(x)"
   ]
  },
  {
   "cell_type": "code",
   "execution_count": 17,
   "id": "a54bfdd4-9465-4bd1-a23d-0244879b995a",
   "metadata": {},
   "outputs": [
    {
     "name": "stdout",
     "output_type": "stream",
     "text": [
      "[10 12 14 16 18]\n"
     ]
    }
   ],
   "source": [
    "x2 = np.arange(10,19,2)\n",
    "print(x2)"
   ]
  },
  {
   "cell_type": "code",
   "execution_count": 19,
   "id": "302168a1-aef4-4795-913f-13fc6ded0b12",
   "metadata": {},
   "outputs": [
    {
     "name": "stdout",
     "output_type": "stream",
     "text": [
      "[ 8  7  6  5  4  3  2  1  0 -1 -2 -3]\n"
     ]
    }
   ],
   "source": [
    "x3 = np.arange(8,-4,-1)\n",
    "print(x3)"
   ]
  },
  {
   "cell_type": "code",
   "execution_count": 21,
   "id": "30195887-41a3-42ec-9ab0-ca378eb6e317",
   "metadata": {},
   "outputs": [],
   "source": [
    "mpg = np.array([19, 23, 20, 21, 20, 23, 21, 21, 23, 19, 24, 23, 28, 19, 18, 21, 23, 17, 20, 20, 20, 21, 24, 18, 15])"
   ]
  },
  {
   "cell_type": "code",
   "execution_count": 23,
   "id": "f831f150-a810-46a0-8590-cf398a38ec02",
   "metadata": {},
   "outputs": [
    {
     "name": "stdout",
     "output_type": "stream",
     "text": [
      "[21 20 23 21 21 23 19]\n"
     ]
    }
   ],
   "source": [
    "print(mpg[3:10])"
   ]
  },
  {
   "cell_type": "code",
   "execution_count": 27,
   "id": "0123333e-fa90-412a-9b6d-60fc8d5ec2b1",
   "metadata": {},
   "outputs": [
    {
     "name": "stdout",
     "output_type": "stream",
     "text": [
      "[21 23 17 20 20 20 21 24 18 15]\n"
     ]
    }
   ],
   "source": [
    "print(mpg[15:])"
   ]
  },
  {
   "cell_type": "code",
   "execution_count": 43,
   "id": "2a6c50c3-3b38-467b-b0fe-e5fef94fe4b6",
   "metadata": {},
   "outputs": [
    {
     "name": "stdout",
     "output_type": "stream",
     "text": [
      "[23 23 23 24 23 28 23 24]\n"
     ]
    }
   ],
   "source": [
    "goodMpg = mpg[mpg >= 23]\n",
    "print(goodMpg)"
   ]
  },
  {
   "cell_type": "code",
   "execution_count": 69,
   "id": "df91de99-3b13-4715-8057-1d481e168222",
   "metadata": {},
   "outputs": [
    {
     "name": "stdout",
     "output_type": "stream",
     "text": [
      "[19 20 21 20 21 21 19 19 21 20 20 20 21]\n",
      "[19 20 21 20 21 21 19 19 21 20 20 20 21]\n"
     ]
    }
   ],
   "source": [
    "\n",
    "okMpg = mpg[(mpg > 18) & (mpg < 23)]\n",
    "print(okMpg)"
   ]
  },
  {
   "cell_type": "code",
   "execution_count": 71,
   "id": "06ff8af4-b5ed-4836-ab23-4b8b1dca5161",
   "metadata": {},
   "outputs": [
    {
     "name": "stdout",
     "output_type": "stream",
     "text": [
      "[ 8.075  9.775  8.5    8.925  8.5    9.775  8.925  8.925  9.775  8.075\n",
      " 10.2    9.775 11.9    8.075  7.65   8.925  9.775  7.225  8.5    8.5\n",
      "  8.5    8.925 10.2    7.65   6.375]\n"
     ]
    }
   ],
   "source": [
    "kpl = mpg * 0.425\n",
    "print(kpl)"
   ]
  },
  {
   "cell_type": "code",
   "execution_count": 79,
   "id": "c870294c-9fef-46c0-9a54-12c35cc1a6c6",
   "metadata": {},
   "outputs": [
    {
     "name": "stdout",
     "output_type": "stream",
     "text": [
      "[[ 2  3  4]\n",
      " [ 5  6  7]\n",
      " [ 8  9 10]]\n"
     ]
    }
   ],
   "source": [
    "A = np.arange(2,11).reshape(3,3)\n",
    "print(A)"
   ]
  },
  {
   "cell_type": "code",
   "execution_count": 83,
   "id": "8c39f99a-7966-41eb-9440-9cedf5e4ca10",
   "metadata": {},
   "outputs": [
    {
     "name": "stdout",
     "output_type": "stream",
     "text": [
      "[[ 2  3 -4]\n",
      " [-5 -6  7]\n",
      " [ 8  9 10]]\n"
     ]
    }
   ],
   "source": [
    "A[(A > 3) & (A<7)] = -A[(A > 3) & (A < 7)]\n",
    "print(A)"
   ]
  },
  {
   "cell_type": "code",
   "execution_count": 87,
   "id": "ae5d217d-7016-46f7-9659-9a5e5ca5f29b",
   "metadata": {},
   "outputs": [
    {
     "name": "stdout",
     "output_type": "stream",
     "text": [
      "[ 2  3 -4]\n"
     ]
    }
   ],
   "source": [
    "print(A[0])"
   ]
  },
  {
   "cell_type": "code",
   "execution_count": 95,
   "id": "cb6b561c-48c4-44c8-8adf-a2e846ddbcdf",
   "metadata": {},
   "outputs": [
    {
     "name": "stdout",
     "output_type": "stream",
     "text": [
      "[[-4]\n",
      " [ 7]\n",
      " [10]]\n"
     ]
    }
   ],
   "source": [
    "print(A[:,2].reshape(3,1))"
   ]
  },
  {
   "cell_type": "code",
   "execution_count": 99,
   "id": "54e99675-0da1-4f43-89d7-c04351de428e",
   "metadata": {},
   "outputs": [
    {
     "name": "stdout",
     "output_type": "stream",
     "text": [
      "6\n"
     ]
    }
   ],
   "source": [
    "print(np.sum(A[:,1]))"
   ]
  },
  {
   "cell_type": "code",
   "execution_count": 107,
   "id": "24b46f6c-2034-4539-a84c-b210fe1bdc07",
   "metadata": {},
   "outputs": [
    {
     "name": "stdout",
     "output_type": "stream",
     "text": [
      "2.6666666666666665\n"
     ]
    }
   ],
   "source": [
    "print(np.mean(A)) # prints average in mean"
   ]
  },
  {
   "cell_type": "code",
   "execution_count": 113,
   "id": "ea22836d-4dfe-4323-bc84-2768d556f548",
   "metadata": {},
   "outputs": [
    {
     "name": "stdout",
     "output_type": "stream",
     "text": [
      "3.0\n"
     ]
    }
   ],
   "source": [
    "print(np.median(A[:,1]))"
   ]
  },
  {
   "cell_type": "code",
   "execution_count": 115,
   "id": "91576ac7-6d53-4669-a1b9-616d47042224",
   "metadata": {},
   "outputs": [
    {
     "name": "stdout",
     "output_type": "stream",
     "text": [
      "[[ 0  4 -2]\n",
      " [-7 -5  9]\n",
      " [ 6 10 12]]\n"
     ]
    }
   ],
   "source": [
    "row = np.array([-2,1,2])\n",
    "result = A + row\n",
    "print(result)"
   ]
  },
  {
   "cell_type": "code",
   "execution_count": 123,
   "id": "f3686fee-fa08-4403-b196-b5e2cb3f8d77",
   "metadata": {},
   "outputs": [
    {
     "name": "stdout",
     "output_type": "stream",
     "text": [
      "[[[ 0  1]\n",
      "  [ 2  3]\n",
      "  [ 4  5]]\n",
      "\n",
      " [[ 6  7]\n",
      "  [ 8  9]\n",
      "  [10 11]]\n",
      "\n",
      " [[12 13]\n",
      "  [14 15]\n",
      "  [16 17]]\n",
      "\n",
      " [[18 19]\n",
      "  [20 21]\n",
      "  [22 23]]]\n"
     ]
    }
   ],
   "source": [
    "B = np.arange(24).reshape(4,3,2)\n",
    "print(B)"
   ]
  },
  {
   "cell_type": "code",
   "execution_count": null,
   "id": "f8eb34bd-1933-4ca7-b86b-0a280e9573f0",
   "metadata": {},
   "outputs": [],
   "source": []
  }
 ],
 "metadata": {
  "kernelspec": {
   "display_name": "Python 3 (ipykernel)",
   "language": "python",
   "name": "python3"
  },
  "language_info": {
   "codemirror_mode": {
    "name": "ipython",
    "version": 3
   },
   "file_extension": ".py",
   "mimetype": "text/x-python",
   "name": "python",
   "nbconvert_exporter": "python",
   "pygments_lexer": "ipython3",
   "version": "3.12.4"
  }
 },
 "nbformat": 4,
 "nbformat_minor": 5
}
