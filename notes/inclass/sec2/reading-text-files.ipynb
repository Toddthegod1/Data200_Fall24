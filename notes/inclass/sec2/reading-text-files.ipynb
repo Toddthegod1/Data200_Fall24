{
 "cells": [
  {
   "cell_type": "code",
   "execution_count": 13,
   "id": "b7db446f-597f-4117-a585-92e6a1309385",
   "metadata": {},
   "outputs": [
    {
     "data": {
      "text/plain": [
       "'C:\\\\Users\\\\bilene\\\\Downloads'"
      ]
     },
     "execution_count": 13,
     "metadata": {},
     "output_type": "execute_result"
    }
   ],
   "source": [
    "import os\n",
    "os.getcwd()"
   ]
  },
  {
   "cell_type": "code",
   "execution_count": 3,
   "id": "d2b5572f-5b9f-4ec9-bb44-bac4ba38129e",
   "metadata": {},
   "outputs": [],
   "source": [
    "os.mkdir('myproject')"
   ]
  },
  {
   "cell_type": "code",
   "execution_count": 11,
   "id": "c6893127-bf8c-4008-89d8-13716c5de81a",
   "metadata": {},
   "outputs": [],
   "source": [
    "os.chdir('C:\\\\Users\\\\bilene\\\\Downloads')"
   ]
  },
  {
   "cell_type": "code",
   "execution_count": 25,
   "id": "a68ecc39-bdd7-4520-9e4b-ec9c240febf9",
   "metadata": {},
   "outputs": [],
   "source": [
    "file = open('hello.txt')"
   ]
  },
  {
   "cell_type": "code",
   "execution_count": 27,
   "id": "e27cf8b1-359c-4477-8f65-9e828be7a139",
   "metadata": {},
   "outputs": [
    {
     "data": {
      "text/plain": [
       "'Hello World!\\n'"
      ]
     },
     "execution_count": 27,
     "metadata": {},
     "output_type": "execute_result"
    }
   ],
   "source": [
    "content = file.read()\n",
    "content"
   ]
  },
  {
   "cell_type": "code",
   "execution_count": 29,
   "id": "a72e286c-b4f4-4c32-bbed-2c790d737f31",
   "metadata": {},
   "outputs": [],
   "source": [
    "file.close()"
   ]
  },
  {
   "cell_type": "code",
   "execution_count": null,
   "id": "aaedb7b9-a78f-45b6-ade2-730b09f03199",
   "metadata": {},
   "outputs": [],
   "source": [
    "#####\n",
    "# most basic: read()\n",
    "# first open\n",
    "file = open('hello.txt')\n",
    "# read\n",
    "content = file.read()\n",
    "# close\n",
    "file.close()"
   ]
  },
  {
   "cell_type": "code",
   "execution_count": 31,
   "id": "e2ccd86f-25a8-49e5-a02e-aa52bae83534",
   "metadata": {},
   "outputs": [
    {
     "name": "stdout",
     "output_type": "stream",
     "text": [
      "Hello World!\n",
      "\n"
     ]
    }
   ],
   "source": [
    "# instead, use with statement\n",
    "with open('hello.txt') as file:\n",
    "    content = file.read()\n",
    "print(content)"
   ]
  },
  {
   "cell_type": "code",
   "execution_count": 37,
   "id": "1a71c035-49e4-44ae-9540-2c8f70575587",
   "metadata": {},
   "outputs": [
    {
     "name": "stdout",
     "output_type": "stream",
     "text": [
      "file was read successfully.\n"
     ]
    }
   ],
   "source": [
    "# even better, combine with try except block\n",
    "try:\n",
    "    with open('hello.txt') as file:\n",
    "        content = file.read()\n",
    "    print('file was read successfully.')\n",
    "except:\n",
    "    print('there was an error')"
   ]
  },
  {
   "cell_type": "code",
   "execution_count": null,
   "id": "019d58c4-b62a-4f6f-af88-ae06f0df3f98",
   "metadata": {},
   "outputs": [],
   "source": [
    "# let's work with readline()\n",
    "# we need to figure out how many lines there are\n",
    "# in order to use the for loop\n",
    "# split()"
   ]
  },
  {
   "cell_type": "code",
   "execution_count": 53,
   "id": "66c755e8-fefd-4d70-b2b2-c11a0ef8d8db",
   "metadata": {},
   "outputs": [],
   "source": [
    "# instead, use with statement\n",
    "# combine with for loop\n",
    "with open('dog_breeds.txt') as file:\n",
    "    content = file.read()\n",
    "num_lines = len(content.split('\\n'))"
   ]
  },
  {
   "cell_type": "code",
   "execution_count": 65,
   "id": "1c7164f3-ecaf-4ba7-af1d-e4fca21c6c54",
   "metadata": {},
   "outputs": [
    {
     "data": {
      "text/plain": [
       "['Pug',\n",
       " 'Jack Russell Terrier',\n",
       " 'English Springer Spaniel',\n",
       " 'German Shepherd',\n",
       " 'Staffordshire Bull Terrier',\n",
       " 'Cavalier King Charles Spaniel',\n",
       " 'Golden Retriever',\n",
       " 'West Highland White Terrier',\n",
       " 'Boxer',\n",
       " 'Border Terrier']"
      ]
     },
     "execution_count": 65,
     "metadata": {},
     "output_type": "execute_result"
    }
   ],
   "source": [
    "# instead, use with statement\n",
    "# combine with for loop\n",
    "mylist=[]\n",
    "with open('dog_breeds.txt') as file:\n",
    "    for line in range(num_lines):\n",
    "        mylist.append(file.readline().strip())\n",
    "mylist"
   ]
  },
  {
   "cell_type": "code",
   "execution_count": 63,
   "id": "4f65a6d8-7c04-471c-a5d6-86d25d6cc55b",
   "metadata": {},
   "outputs": [
    {
     "data": {
      "text/plain": [
       "'Pug'"
      ]
     },
     "execution_count": 63,
     "metadata": {},
     "output_type": "execute_result"
    }
   ],
   "source": [
    "# strip() to trim away unnecessary string at the beginning or at the end of a string\n",
    "mylist[0].strip() # default is whitespace, linebreak"
   ]
  },
  {
   "cell_type": "code",
   "execution_count": 71,
   "id": "8dd47812-3dc1-400e-b285-6011bb2b6fe5",
   "metadata": {},
   "outputs": [
    {
     "data": {
      "text/plain": [
       "'banana      '"
      ]
     },
     "execution_count": 71,
     "metadata": {},
     "output_type": "execute_result"
    }
   ],
   "source": [
    "# rstrip(), lstrip()\n",
    "mytext = \"     banana      \"\n",
    "mytext.strip() # gets rid of whitespaces both sides\n",
    "mytext.rstrip() # trims on rhs\n",
    "mytext.lstrip() # trims on lhs"
   ]
  },
  {
   "cell_type": "code",
   "execution_count": 79,
   "id": "3d3c4ac2-5790-47c1-9047-aa89ce35dd18",
   "metadata": {},
   "outputs": [
    {
     "data": {
      "text/plain": [
       "['Pug',\n",
       " 'Jack Russell Terrier',\n",
       " 'English Springer Spaniel',\n",
       " 'German Shepherd',\n",
       " 'Staffordshire Bull Terrier',\n",
       " 'Cavalier King Charles Spaniel',\n",
       " 'Golden Retriever',\n",
       " 'West Highland White Terrier',\n",
       " 'Boxer',\n",
       " 'Border Terrier']"
      ]
     },
     "execution_count": 79,
     "metadata": {},
     "output_type": "execute_result"
    }
   ],
   "source": [
    "# readlines()\n",
    "with open('dog_breeds.txt') as file:\n",
    "    content = file.readlines()\n",
    "content # to get rid of \\n chars, we'd need to run a loop and apply strip()\n",
    "\n",
    "mylist_cleaned=[]\n",
    "for line in content:\n",
    "    mylist_cleaned.append(line.strip())\n",
    "mylist_cleaned"
   ]
  },
  {
   "cell_type": "code",
   "execution_count": 83,
   "id": "9e6448c9-39d2-4ae2-a854-ea57aded5efe",
   "metadata": {},
   "outputs": [
    {
     "data": {
      "text/plain": [
       "['Milk', 'Honey', 'Cereal']"
      ]
     },
     "execution_count": 83,
     "metadata": {},
     "output_type": "execute_result"
    }
   ],
   "source": [
    "# practice using strip()\n",
    "groceries = 'Milk, Honey, Cereal'\n",
    "# store this information in a list called grocery_list with each item contained in that list\n",
    "groceries.split(', ')"
   ]
  },
  {
   "cell_type": "code",
   "execution_count": 85,
   "id": "bda34da0-ef94-4f94-8341-092c5f8d926d",
   "metadata": {},
   "outputs": [],
   "source": [
    "# practice using read(), readline(), readlines()\n",
    "# read the baby_2010_female_namecount.txt file into python using the methods above\n",
    "# your output should contain two lists\n",
    "# list1, call it names containing baby names\n",
    "# list2, call it counts containing the counts of names given\n",
    "# Hint: split() and strip() will be useful!"
   ]
  },
  {
   "cell_type": "code",
   "execution_count": 87,
   "id": "7b370357-e7b3-4ee5-9bde-ed5b5e7d0462",
   "metadata": {},
   "outputs": [],
   "source": [
    "# read() method:\n",
    "with open('baby_2010_female_namecount.txt') as file:\n",
    "    content = file.read()"
   ]
  },
  {
   "cell_type": "code",
   "execution_count": 127,
   "id": "890bba34-6921-42b4-a36d-e6895ae7872b",
   "metadata": {},
   "outputs": [
    {
     "name": "stdout",
     "output_type": "stream",
     "text": [
      "['Isabella', 'Sophia', 'Emma', 'Olivia', 'Ava']\n",
      "['22913', '20643', '17345', '17028', '15433']\n"
     ]
    }
   ],
   "source": [
    "# leverages even-odd indices\n",
    "names=[]\n",
    "counts=[]\n",
    "contents = content.split()\n",
    "for i in range(len(contents)):\n",
    "    if i % 2 == 0:\n",
    "        names.append(contents[i])\n",
    "    elif i % 2 == 1:\n",
    "        counts.append(contents[i])\n",
    "print(names)\n",
    "print(counts)\n",
    "#contents[0].split()"
   ]
  },
  {
   "cell_type": "code",
   "execution_count": 149,
   "id": "134e3120-4181-4a75-9717-a8f2730b335c",
   "metadata": {},
   "outputs": [
    {
     "data": {
      "text/plain": [
       "['Isabella\\t22913',\n",
       " 'Sophia\\t20643',\n",
       " 'Emma\\t17345',\n",
       " 'Olivia\\t17028',\n",
       " 'Ava\\t15433',\n",
       " '']"
      ]
     },
     "execution_count": 149,
     "metadata": {},
     "output_type": "execute_result"
    }
   ],
   "source": [
    "content.split('\\n')"
   ]
  },
  {
   "cell_type": "code",
   "execution_count": 169,
   "id": "1b501a2e-9672-4794-841d-1c2cb25076e5",
   "metadata": {},
   "outputs": [
    {
     "data": {
      "text/plain": [
       "['Isabella\\t22913',\n",
       " 'Sophia\\t20643',\n",
       " 'Emma\\t17345',\n",
       " 'Olivia\\t17028',\n",
       " 'Ava\\t15433']"
      ]
     },
     "execution_count": 169,
     "metadata": {},
     "output_type": "execute_result"
    }
   ],
   "source": []
  },
  {
   "cell_type": "code",
   "execution_count": 173,
   "id": "c0455c7c-3ad0-4263-97f9-1b6d25404582",
   "metadata": {},
   "outputs": [
    {
     "name": "stdout",
     "output_type": "stream",
     "text": [
      "['Isabella', 'Sophia', 'Emma', 'Olivia', 'Ava']\n",
      "['22913', '20643', '17345', '17028', '15433']\n"
     ]
    }
   ],
   "source": [
    "names=[]\n",
    "counts=[]\n",
    "contents = content.split('\\n')\n",
    "contents = contents[:5]\n",
    "for line in contents:\n",
    "    names.append(line.split()[0])\n",
    "    counts.append(line.split()[1])\n",
    "print(names)\n",
    "print(counts)"
   ]
  },
  {
   "cell_type": "code",
   "execution_count": null,
   "id": "3df3ae48-0a68-4cdd-8555-d699a7327705",
   "metadata": {},
   "outputs": [],
   "source": [
    "# create a function called filereader() that takes in two arguments. arg1: the type of the reading method as int; \n",
    "# 1 is read(); 2 is readline(); 3 is readlines(), arg2: filepath\n",
    "# returns two lists as above"
   ]
  },
  {
   "cell_type": "code",
   "execution_count": null,
   "id": "b9d47229-1560-407b-a2a7-f3251ccccdd4",
   "metadata": {},
   "outputs": [],
   "source": []
  }
 ],
 "metadata": {
  "kernelspec": {
   "display_name": "Python 3 (ipykernel)",
   "language": "python",
   "name": "python3"
  },
  "language_info": {
   "codemirror_mode": {
    "name": "ipython",
    "version": 3
   },
   "file_extension": ".py",
   "mimetype": "text/x-python",
   "name": "python",
   "nbconvert_exporter": "python",
   "pygments_lexer": "ipython3",
   "version": "3.12.4"
  }
 },
 "nbformat": 4,
 "nbformat_minor": 5
}
