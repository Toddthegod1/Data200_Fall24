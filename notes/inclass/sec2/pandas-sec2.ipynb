{
 "cells": [
  {
   "cell_type": "code",
   "execution_count": 1,
   "id": "e139be6c",
   "metadata": {},
   "outputs": [],
   "source": [
    "# DoL\n",
    "topnames = {'year':[2018,2018,2017,2017,2016,2016],\n",
    "           'sex':['Male','Female','Male','Female','Male','Female'],\n",
    "           'name':['Liam','Emma','Liam','Emma','Noah','Emma'],\n",
    "           'count':[19837,18688,18798,19800,19117,1996]}"
   ]
  },
  {
   "cell_type": "code",
   "execution_count": 8,
   "id": "665e11e2",
   "metadata": {},
   "outputs": [
    {
     "name": "stdout",
     "output_type": "stream",
     "text": [
      "['Liam', 'Emma', 'Liam', 'Emma', 'Noah', 'Emma']\n",
      "[2017, 'Female', 'Emma', 19800]\n"
     ]
    }
   ],
   "source": [
    "print(topnames['name']) # easy to access cols\n",
    "print([topnames['year'][3],topnames['sex'][3],topnames['name'][3],topnames['count'][3]]) # how about accessing say row 4?"
   ]
  },
  {
   "cell_type": "code",
   "execution_count": 9,
   "id": "f5fdeb19",
   "metadata": {},
   "outputs": [],
   "source": [
    "# LoL\n",
    "topnames = [[2018,'Male','Liam',19837],\n",
    "           [2018,'Female','Emma',18688],\n",
    "           [2017,'Male','Liam',18798],\n",
    "           [2017,'Female','Emma',19800],\n",
    "           [2016,'Male','Noah',19117],\n",
    "           [2016,'Female','Emma',19496]]"
   ]
  },
  {
   "cell_type": "code",
   "execution_count": 14,
   "id": "04f8f856",
   "metadata": {},
   "outputs": [
    {
     "name": "stdout",
     "output_type": "stream",
     "text": [
      "[2017, 'Female', 'Emma', 19800]\n"
     ]
    },
    {
     "data": {
      "text/plain": [
       "['Liam', 'Emma', 'Liam', 'Emma', 'Noah', 'Emma']"
      ]
     },
     "execution_count": 14,
     "metadata": {},
     "output_type": "execute_result"
    }
   ],
   "source": [
    "print(topnames[3]) # row 4 info is easy to get!\n",
    "mylist=[] # how about accessing a column such as \"name\"?\n",
    "for i in range(len(topnames)):\n",
    "    mylist.append(topnames[i][2])\n",
    "mylist"
   ]
  },
  {
   "cell_type": "code",
   "execution_count": 18,
   "id": "92e2cc82",
   "metadata": {},
   "outputs": [
    {
     "data": {
      "text/html": [
       "<div>\n",
       "<style scoped>\n",
       "    .dataframe tbody tr th:only-of-type {\n",
       "        vertical-align: middle;\n",
       "    }\n",
       "\n",
       "    .dataframe tbody tr th {\n",
       "        vertical-align: top;\n",
       "    }\n",
       "\n",
       "    .dataframe thead th {\n",
       "        text-align: right;\n",
       "    }\n",
       "</style>\n",
       "<table border=\"1\" class=\"dataframe\">\n",
       "  <thead>\n",
       "    <tr style=\"text-align: right;\">\n",
       "      <th></th>\n",
       "      <th>year</th>\n",
       "      <th>sex</th>\n",
       "      <th>name</th>\n",
       "      <th>count</th>\n",
       "    </tr>\n",
       "  </thead>\n",
       "  <tbody>\n",
       "    <tr>\n",
       "      <th>0</th>\n",
       "      <td>2018</td>\n",
       "      <td>Male</td>\n",
       "      <td>Liam</td>\n",
       "      <td>19837</td>\n",
       "    </tr>\n",
       "    <tr>\n",
       "      <th>1</th>\n",
       "      <td>2018</td>\n",
       "      <td>Female</td>\n",
       "      <td>Emma</td>\n",
       "      <td>18688</td>\n",
       "    </tr>\n",
       "    <tr>\n",
       "      <th>2</th>\n",
       "      <td>2017</td>\n",
       "      <td>Male</td>\n",
       "      <td>Liam</td>\n",
       "      <td>18798</td>\n",
       "    </tr>\n",
       "    <tr>\n",
       "      <th>3</th>\n",
       "      <td>2017</td>\n",
       "      <td>Female</td>\n",
       "      <td>Emma</td>\n",
       "      <td>19800</td>\n",
       "    </tr>\n",
       "    <tr>\n",
       "      <th>4</th>\n",
       "      <td>2016</td>\n",
       "      <td>Male</td>\n",
       "      <td>Noah</td>\n",
       "      <td>19117</td>\n",
       "    </tr>\n",
       "    <tr>\n",
       "      <th>5</th>\n",
       "      <td>2016</td>\n",
       "      <td>Female</td>\n",
       "      <td>Emma</td>\n",
       "      <td>19496</td>\n",
       "    </tr>\n",
       "  </tbody>\n",
       "</table>\n",
       "</div>"
      ],
      "text/plain": [
       "   year     sex  name  count\n",
       "0  2018    Male  Liam  19837\n",
       "1  2018  Female  Emma  18688\n",
       "2  2017    Male  Liam  18798\n",
       "3  2017  Female  Emma  19800\n",
       "4  2016    Male  Noah  19117\n",
       "5  2016  Female  Emma  19496"
      ]
     },
     "execution_count": 18,
     "metadata": {},
     "output_type": "execute_result"
    }
   ],
   "source": [
    "# instead use pandas!\n",
    "import pandas as pd\n",
    "df = pd.DataFrame(topnames,columns=['year','sex','name','count'])\n",
    "df"
   ]
  },
  {
   "cell_type": "code",
   "execution_count": 21,
   "id": "bcd512cd",
   "metadata": {},
   "outputs": [
    {
     "name": "stdout",
     "output_type": "stream",
     "text": [
      "0    Liam\n",
      "1    Emma\n",
      "2    Liam\n",
      "3    Emma\n",
      "4    Noah\n",
      "5    Emma\n",
      "Name: name, dtype: object\n",
      "0    Liam\n",
      "1    Emma\n",
      "2    Liam\n",
      "3    Emma\n",
      "4    Noah\n",
      "5    Emma\n",
      "Name: name, dtype: object\n",
      "year       2017\n",
      "sex      Female\n",
      "name       Emma\n",
      "count     19800\n",
      "Name: 3, dtype: object\n"
     ]
    }
   ],
   "source": [
    "print(df['name']) # gives the name col\n",
    "print(df.iloc[:,2]) # equivalently I could use column position\n",
    "print(df.iloc[3,:]) # gives row 4"
   ]
  },
  {
   "cell_type": "code",
   "execution_count": 25,
   "id": "d49a594e",
   "metadata": {},
   "outputs": [
    {
     "name": "stdout",
     "output_type": "stream",
     "text": [
      "<class 'pandas.core.frame.DataFrame'>\n",
      "<class 'pandas.core.series.Series'>\n",
      "<class 'pandas.core.frame.DataFrame'>\n"
     ]
    }
   ],
   "source": [
    "print(type(df)) # pandas dataframe object\n",
    "print(type(df['name'])) # pandas series object\n",
    "print(type(df[['name']])) # still a pandas dataframe object"
   ]
  },
  {
   "cell_type": "code",
   "execution_count": 28,
   "id": "ef4820de",
   "metadata": {},
   "outputs": [
    {
     "data": {
      "text/plain": [
       "0    4036\n",
       "1    4036\n",
       "2    4034\n",
       "3    4034\n",
       "4    4032\n",
       "5    4032\n",
       "Name: year, dtype: int64"
      ]
     },
     "execution_count": 28,
     "metadata": {},
     "output_type": "execute_result"
    }
   ],
   "source": [
    "df['year']*2 # works because of broadcasting because pandas is built on numpy"
   ]
  }
 ],
 "metadata": {
  "kernelspec": {
   "display_name": "Python 3 (ipykernel)",
   "language": "python",
   "name": "python3"
  },
  "language_info": {
   "codemirror_mode": {
    "name": "ipython",
    "version": 3
   },
   "file_extension": ".py",
   "mimetype": "text/x-python",
   "name": "python",
   "nbconvert_exporter": "python",
   "pygments_lexer": "ipython3",
   "version": "3.9.16"
  }
 },
 "nbformat": 4,
 "nbformat_minor": 5
}
