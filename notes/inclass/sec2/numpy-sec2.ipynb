{
 "cells": [
  {
   "cell_type": "code",
   "execution_count": 1,
   "id": "3b82d5a1",
   "metadata": {},
   "outputs": [],
   "source": [
    "import numpy as np"
   ]
  },
  {
   "cell_type": "code",
   "execution_count": 10,
   "id": "abdbd01d",
   "metadata": {},
   "outputs": [
    {
     "name": "stdout",
     "output_type": "stream",
     "text": [
      "[1.8288, 1.7271999999999998, 1.7526, 1.7271999999999998, 1.6256, 1.8288]\n"
     ]
    }
   ],
   "source": [
    "height = [72, 68, 69, 68, 64, 72] # some height data in inches\n",
    "\n",
    "# convert each of these height data from inches to meters\n",
    "# 1 inch = 0.0254 meter\n",
    "\n",
    "height_m = []\n",
    "# do this without using numpy\n",
    "for i in range(0,len(height)):\n",
    "    height_m.append(height[i] * 0.0254)\n",
    "print(height_m)"
   ]
  },
  {
   "cell_type": "code",
   "execution_count": 15,
   "id": "9539b5a8",
   "metadata": {},
   "outputs": [
    {
     "data": {
      "text/plain": [
       "array([72, 68, 69, 68, 64, 72])"
      ]
     },
     "execution_count": 15,
     "metadata": {},
     "output_type": "execute_result"
    }
   ],
   "source": [
    "# instead use numpy which is much faster\n",
    "# first create a numpy array\n",
    "np_height = np.array(height)\n",
    "np_height"
   ]
  },
  {
   "cell_type": "code",
   "execution_count": 16,
   "id": "3dfa9b34",
   "metadata": {},
   "outputs": [
    {
     "data": {
      "text/plain": [
       "array([1.8288, 1.7272, 1.7526, 1.7272, 1.6256, 1.8288])"
      ]
     },
     "execution_count": 16,
     "metadata": {},
     "output_type": "execute_result"
    }
   ],
   "source": [
    "np_height*0.0254"
   ]
  },
  {
   "cell_type": "code",
   "execution_count": 19,
   "id": "738287f5",
   "metadata": {},
   "outputs": [
    {
     "name": "stdout",
     "output_type": "stream",
     "text": [
      "[1, 2, 3, 4, 5, 6]\n",
      "[5 7 9]\n"
     ]
    }
   ],
   "source": [
    "# one difference between lists and numpy arrays\n",
    "print([1,2,3] + [4,5,6])\n",
    "print(np.array([1,2,3]) + np.array([4,5,6]))\n",
    "# I want the output: [5,7,9]"
   ]
  },
  {
   "cell_type": "code",
   "execution_count": 20,
   "id": "4fdda754",
   "metadata": {},
   "outputs": [
    {
     "data": {
      "text/plain": [
       "dtype('int32')"
      ]
     },
     "execution_count": 20,
     "metadata": {},
     "output_type": "execute_result"
    }
   ],
   "source": [
    "np.array([1,2,3]).dtype"
   ]
  },
  {
   "cell_type": "code",
   "execution_count": 22,
   "id": "97296ef7",
   "metadata": {},
   "outputs": [
    {
     "data": {
      "text/plain": [
       "dtype('float64')"
      ]
     },
     "execution_count": 22,
     "metadata": {},
     "output_type": "execute_result"
    }
   ],
   "source": [
    "np.array([1.75,2.0,3]).dtype"
   ]
  },
  {
   "cell_type": "code",
   "execution_count": 24,
   "id": "910f1af0",
   "metadata": {},
   "outputs": [
    {
     "name": "stdout",
     "output_type": "stream",
     "text": [
      "[18 23 89 11 35 37]\n"
     ]
    }
   ],
   "source": [
    "# accessing elements\n",
    "age = [18,23,89,11,35,37] # some age data\n",
    "np_age = np.array(age)\n",
    "print(np_age)"
   ]
  },
  {
   "cell_type": "code",
   "execution_count": 43,
   "id": "4f6deba1",
   "metadata": {},
   "outputs": [
    {
     "data": {
      "text/plain": [
       "array([18, 23, 11])"
      ]
     },
     "execution_count": 43,
     "metadata": {},
     "output_type": "execute_result"
    }
   ],
   "source": [
    "np_age[1] # returns the the second element: 23\n",
    "np_age[1:3] # returns elements 2 and 3: [23 89]\n",
    "np_age[:3] # returns elements from 0 up to 3: [18 23 89]\n",
    "np_age[3:] # returns the last 3 elements: [11 35 37]\n",
    "np_age[::2] # returns the first, third, and the fifth elements: [18 89 35]\n",
    "np_age[::-1] # returns the same array, but in reverse: [37 35 11 89 23 18]\n",
    "np_age[np_age<30] # returns values with age < 30: Hint: think back to R \"filtering\""
   ]
  },
  {
   "cell_type": "code",
   "execution_count": 48,
   "id": "9fa81e48",
   "metadata": {},
   "outputs": [
    {
     "data": {
      "text/plain": [
       "array([9, 8, 7, 6, 5, 4, 3, 2, 1, 0])"
      ]
     },
     "execution_count": 48,
     "metadata": {},
     "output_type": "execute_result"
    }
   ],
   "source": [
    "print(range(0,10,1)) # creates a list of numbers from 0 up to 9\n",
    "print(np.arange(0,10,1)) # numpy array version of it\n",
    "print(np.arange(9,-1,-1)) # works in the reverse direction too"
   ]
  },
  {
   "cell_type": "code",
   "execution_count": 51,
   "id": "5298f73a",
   "metadata": {},
   "outputs": [
    {
     "name": "stdout",
     "output_type": "stream",
     "text": [
      "[18 23 89 11]\n"
     ]
    }
   ],
   "source": [
    "# what if you want to return people with age <30 or age >60\n",
    "# or: \"|\"\n",
    "# and: \"&\"\n",
    "# not: \"~\"\n",
    "print(np_age[(np_age<30) | (np_age >60)])"
   ]
  },
  {
   "cell_type": "code",
   "execution_count": 59,
   "id": "0843c2a8",
   "metadata": {},
   "outputs": [
    {
     "name": "stdout",
     "output_type": "stream",
     "text": [
      "[[ 72  68  69  68  64  72]\n",
      " [200 165 160 135 120 200]]\n"
     ]
    }
   ],
   "source": [
    "# 2d arrays, aka matrices\n",
    "height = [72, 68, 69, 68, 64, 72] # some height data in inches\n",
    "weight = [200, 165, 160, 135, 120, 200] # some weight data in lbs\n",
    "\n",
    "data = np.array([height,weight])\n",
    "print(data)"
   ]
  },
  {
   "cell_type": "code",
   "execution_count": 65,
   "id": "6616aaba",
   "metadata": {},
   "outputs": [
    {
     "name": "stdout",
     "output_type": "stream",
     "text": [
      "(2, 6)\n",
      "2\n"
     ]
    }
   ],
   "source": [
    "print(data.shape) # 2 rows and 6 columns\n",
    "print(data.ndim)"
   ]
  },
  {
   "cell_type": "code",
   "execution_count": 66,
   "id": "e17b98ce",
   "metadata": {},
   "outputs": [
    {
     "name": "stdout",
     "output_type": "stream",
     "text": [
      "(6,)\n",
      "1\n"
     ]
    }
   ],
   "source": [
    "print(np_height.shape) # 1 dimensional, so only one number\n",
    "print(np_height.ndim)"
   ]
  },
  {
   "cell_type": "code",
   "execution_count": 67,
   "id": "71aec313",
   "metadata": {},
   "outputs": [
    {
     "data": {
      "text/plain": [
       "dtype('int32')"
      ]
     },
     "execution_count": 67,
     "metadata": {},
     "output_type": "execute_result"
    }
   ],
   "source": [
    "data.dtype"
   ]
  },
  {
   "cell_type": "code",
   "execution_count": 77,
   "id": "1d15baea",
   "metadata": {},
   "outputs": [
    {
     "data": {
      "text/plain": [
       "array([ 68, 165])"
      ]
     },
     "execution_count": 77,
     "metadata": {},
     "output_type": "execute_result"
    }
   ],
   "source": [
    "data[0] # returns the first row of data: [72 68 69 68 64 72]\n",
    "data[0,1] # returns the element in the first row and second col: 68, equivalen to data[0][1]\n",
    "data[:,1] # returns te second column: [68 165]"
   ]
  },
  {
   "cell_type": "code",
   "execution_count": 82,
   "id": "a07164a6",
   "metadata": {},
   "outputs": [
    {
     "name": "stdout",
     "output_type": "stream",
     "text": [
      "[1 2 3 4 5 6 7 8 9]\n",
      "[[1 2 3]\n",
      " [4 5 6]\n",
      " [7 8 9]]\n",
      "[1 2 3 4 5 6 7 8 9]\n",
      "[[1 2 3]\n",
      " [4 5 6]\n",
      " [7 8 9]]\n"
     ]
    }
   ],
   "source": [
    "# reshape() vs resize()\n",
    "x = np.arange(1,10,1)\n",
    "print(x)\n",
    "print(x.reshape(3,3))\n",
    "print(x)\n",
    "x.resize(3,3) # same as reshape(), but overwrites the original object\n",
    "print(x)"
   ]
  },
  {
   "cell_type": "code",
   "execution_count": null,
   "id": "24c128d9",
   "metadata": {},
   "outputs": [],
   "source": [
    "# calculate bmi of each person using their height and weight data\n",
    "# bmi = weight / height^2\n",
    "# note: for squaring numbers in python you should use : \"**\"\n",
    "# do this without numpy and with numpy\n",
    "\n",
    "# optional: create a function called bmi_calculator that takes in\n",
    "# two lists (one for height another for weight) and returns\n",
    "# the calculated bmi values as a list/numpy array\n",
    "\n",
    "\n",
    "# 2d arrays, aka matrices\n",
    "height = [72, 68, 69, 68, 64, 72] # some height data in inches\n",
    "weight = [200, 165, 160, 135, 120, 200] # some weight data in lbs"
   ]
  },
  {
   "cell_type": "code",
   "execution_count": null,
   "id": "c0bb4da4",
   "metadata": {},
   "outputs": [],
   "source": []
  }
 ],
 "metadata": {
  "kernelspec": {
   "display_name": "Python 3 (ipykernel)",
   "language": "python",
   "name": "python3"
  },
  "language_info": {
   "codemirror_mode": {
    "name": "ipython",
    "version": 3
   },
   "file_extension": ".py",
   "mimetype": "text/x-python",
   "name": "python",
   "nbconvert_exporter": "python",
   "pygments_lexer": "ipython3",
   "version": "3.9.16"
  }
 },
 "nbformat": 4,
 "nbformat_minor": 5
}
