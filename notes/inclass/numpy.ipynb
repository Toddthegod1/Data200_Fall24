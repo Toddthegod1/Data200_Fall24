{
 "cells": [
  {
   "cell_type": "code",
   "execution_count": 9,
   "id": "c7708be0",
   "metadata": {},
   "outputs": [],
   "source": [
    "import numpy as np"
   ]
  },
  {
   "cell_type": "code",
   "execution_count": 12,
   "id": "08c58b25",
   "metadata": {},
   "outputs": [],
   "source": [
    "height = [72, 68, 69, 64, 72, 72] # some height data in inches\n",
    "\n",
    "# convert this data height data from inches to meters (w/o numpy):\n",
    "# 1 inch = 0.0254 meter\n",
    "for i in range(len(height)):\n",
    "    height_m.append(height[i]*0.0254)"
   ]
  },
  {
   "cell_type": "code",
   "execution_count": 14,
   "id": "7849b3d8",
   "metadata": {},
   "outputs": [
    {
     "data": {
      "text/plain": [
       "[1.8288,\n",
       " 1.7271999999999998,\n",
       " 1.8288,\n",
       " 1.7271999999999998,\n",
       " 1.7526,\n",
       " 1.6256,\n",
       " 1.8288,\n",
       " 1.8288]"
      ]
     },
     "execution_count": 14,
     "metadata": {},
     "output_type": "execute_result"
    }
   ],
   "source": [
    "height_m"
   ]
  },
  {
   "cell_type": "code",
   "execution_count": 16,
   "id": "745d6ea4",
   "metadata": {},
   "outputs": [
    {
     "data": {
      "text/plain": [
       "array([72, 68, 69, 64, 72, 72])"
      ]
     },
     "execution_count": 16,
     "metadata": {},
     "output_type": "execute_result"
    }
   ],
   "source": [
    "np_height = np.array(height)\n",
    "np_height"
   ]
  },
  {
   "cell_type": "code",
   "execution_count": 17,
   "id": "81bb46f8",
   "metadata": {},
   "outputs": [
    {
     "data": {
      "text/plain": [
       "array([1.8288, 1.7272, 1.7526, 1.6256, 1.8288, 1.8288])"
      ]
     },
     "execution_count": 17,
     "metadata": {},
     "output_type": "execute_result"
    }
   ],
   "source": [
    "np_height*0.0254 # works because of vectorization/broadcasting"
   ]
  },
  {
   "cell_type": "code",
   "execution_count": 20,
   "id": "6a2243f3",
   "metadata": {},
   "outputs": [
    {
     "name": "stdout",
     "output_type": "stream",
     "text": [
      "[2, 4, 6, 1, 3, 5]\n",
      "[ 3  7 11]\n"
     ]
    }
   ],
   "source": [
    "my_list1 = [2,4,6]\n",
    "my_list2 = [1,3,5]\n",
    "\n",
    "print(my_list1 + my_list2) # appends the lists\n",
    "\n",
    "np_mylist1 = np.array(my_list1)\n",
    "np_mylist2 = np.array(my_list2)\n",
    "\n",
    "print(np_mylist1 + np_mylist2)"
   ]
  },
  {
   "cell_type": "code",
   "execution_count": 32,
   "id": "548c2f04",
   "metadata": {},
   "outputs": [
    {
     "name": "stdout",
     "output_type": "stream",
     "text": [
      "int32\n",
      "float64\n",
      "[1. 2. 3.]\n",
      "float64\n"
     ]
    }
   ],
   "source": [
    "numbers = [1,2,3]\n",
    "numbers2= [10.0, 12.1, 35.3]\n",
    "\n",
    "print(np.array(numbers).dtype)\n",
    "print(np.array(numbers2).dtype)\n",
    "print(np.array(numbers,dtype='float'))\n",
    "print(np.array(numbers,dtype='float').dtype)"
   ]
  },
  {
   "cell_type": "code",
   "execution_count": 33,
   "id": "d550a226",
   "metadata": {},
   "outputs": [
    {
     "name": "stdout",
     "output_type": "stream",
     "text": [
      "[18 23 89 11 35 37]\n"
     ]
    }
   ],
   "source": [
    "age = [18,23,89,11,35,37] # some age data\n",
    "np_age = np.array(age)\n",
    "print(np_age)"
   ]
  },
  {
   "cell_type": "code",
   "execution_count": 51,
   "id": "68ac388a",
   "metadata": {},
   "outputs": [
    {
     "name": "stdout",
     "output_type": "stream",
     "text": [
      "89\n",
      "[89 11]\n",
      "[18 23 89]\n",
      "[11 35 37]\n",
      "[18 89 35]\n",
      "[37 35 11 89 23 18]\n"
     ]
    }
   ],
   "source": [
    "print(np_age[2])\n",
    "print(np_age[2:4])\n",
    "print(np_age[:3]) # equivalent to np_age[0:3]\n",
    "print(np_age[3:]) # equivalent to np_age[3:7]\n",
    "print(np_age[::2]) # equivalent to np_age[0:7:2]\n",
    "print(np_age[::-1]) # \"steps of -1\""
   ]
  },
  {
   "cell_type": "code",
   "execution_count": 57,
   "id": "f3d64451",
   "metadata": {},
   "outputs": [
    {
     "name": "stdout",
     "output_type": "stream",
     "text": [
      "[0 1 2 3 4]\n",
      "[0 2 4]\n",
      "[0 1 2 3 4]\n",
      "[-5 -4 -3 -2 -1  0  1  2  3  4]\n",
      "[4 3 2 1 0]\n"
     ]
    }
   ],
   "source": [
    "print(np.arange(0,5)) # python does not use the end number\n",
    "print(np.arange(0,5,2))\n",
    "print(np.arange(5)) # equivalent to the first line\n",
    "print(np.arange(-5,5)) # works with negative numbers too\n",
    "print(np.arange(4,-1,-1)) # works in reverse too"
   ]
  },
  {
   "cell_type": "code",
   "execution_count": 65,
   "id": "102822c4",
   "metadata": {},
   "outputs": [
    {
     "name": "stdout",
     "output_type": "stream",
     "text": [
      "[89 35 37]\n",
      "[18 89 11 35 37]\n"
     ]
    }
   ],
   "source": [
    "#np_age\n",
    "print(np_age[np_age > 30]) # returns people over 30\n",
    "print(np_age[(np_age >30) | (np_age<20)]) # you can two conditions (could be and \"&\", or \"|\", not \"~\")"
   ]
  },
  {
   "cell_type": "code",
   "execution_count": 70,
   "id": "53992437",
   "metadata": {},
   "outputs": [
    {
     "name": "stdout",
     "output_type": "stream",
     "text": [
      "[[ 72  68  69  64  72  72]\n",
      " [200 165 160 135 200 190]]\n"
     ]
    }
   ],
   "source": [
    "# 2d arrays, aka matrics\n",
    "height = [72, 68, 69, 64, 72, 72] # some height data in inches\n",
    "weight = [200, 165, 160, 135, 200, 190] # some weight data in lbs\n",
    "\n",
    "# create a numpy array (2d)\n",
    "data = np.array([height,weight])\n",
    "print(data)"
   ]
  },
  {
   "cell_type": "code",
   "execution_count": 72,
   "id": "742567d4",
   "metadata": {},
   "outputs": [
    {
     "name": "stdout",
     "output_type": "stream",
     "text": [
      "2\n",
      "(2, 6)\n"
     ]
    }
   ],
   "source": [
    "print(data.ndim) # returns the number of dimensions of your array\n",
    "print(data.shape) # shows the object has 2 rows and 6 cols"
   ]
  },
  {
   "cell_type": "code",
   "execution_count": 75,
   "id": "d8da543b",
   "metadata": {},
   "outputs": [
    {
     "data": {
      "text/plain": [
       "68"
      ]
     },
     "execution_count": 75,
     "metadata": {},
     "output_type": "execute_result"
    }
   ],
   "source": [
    "data[0,1] # element inside row 1, col 2, equilvanet to data[0][1]"
   ]
  },
  {
   "cell_type": "code",
   "execution_count": 76,
   "id": "00b9963b",
   "metadata": {},
   "outputs": [
    {
     "data": {
      "text/plain": [
       "array([72, 68, 69, 64, 72, 72])"
      ]
     },
     "execution_count": 76,
     "metadata": {},
     "output_type": "execute_result"
    }
   ],
   "source": [
    "data[0] # returns the entire row 1"
   ]
  },
  {
   "cell_type": "code",
   "execution_count": 88,
   "id": "bd041b3d",
   "metadata": {},
   "outputs": [
    {
     "data": {
      "text/plain": [
       "array([ 68, 165])"
      ]
     },
     "execution_count": 88,
     "metadata": {},
     "output_type": "execute_result"
    }
   ],
   "source": [
    "data[:,1] # returns the entire col 2"
   ]
  },
  {
   "cell_type": "code",
   "execution_count": 94,
   "id": "e3eb90c5",
   "metadata": {},
   "outputs": [
    {
     "name": "stdout",
     "output_type": "stream",
     "text": [
      "[1 2 3 4 5 6 7 8 9]\n",
      "[[1 2 3]\n",
      " [4 5 6]\n",
      " [7 8 9]]\n",
      "None\n"
     ]
    }
   ],
   "source": [
    "x = np.arange(1,10) # creates a vector from 1 to 9 with the default step size of 1\n",
    "print(x)\n",
    "print(x.reshape(3,3))\n",
    "print(x.resize(3,3)) # exactly the same as reshape, but it overwrites your original x vector"
   ]
  },
  {
   "cell_type": "code",
   "execution_count": 96,
   "id": "f1aa3fc0",
   "metadata": {},
   "outputs": [
    {
     "name": "stdout",
     "output_type": "stream",
     "text": [
      "[[1 2 3]\n",
      " [4 5 6]\n",
      " [7 8 9]]\n"
     ]
    }
   ],
   "source": [
    "print(x)"
   ]
  },
  {
   "cell_type": "code",
   "execution_count": 95,
   "id": "b889f453",
   "metadata": {},
   "outputs": [
    {
     "data": {
      "text/plain": [
       "(3, 3)"
      ]
     },
     "execution_count": 95,
     "metadata": {},
     "output_type": "execute_result"
    }
   ],
   "source": [
    "x.shape"
   ]
  },
  {
   "cell_type": "code",
   "execution_count": 21,
   "id": "5d66e70b",
   "metadata": {},
   "outputs": [
    {
     "name": "stdout",
     "output_type": "stream",
     "text": [
      "[ 1  2  3  4  5  6  7  8  9 10 11 12 13 14 15]\n"
     ]
    },
    {
     "data": {
      "text/plain": [
       "array([[ 1,  2,  3],\n",
       "       [ 4,  5,  6],\n",
       "       [ 7,  8,  9],\n",
       "       [10, 11, 12],\n",
       "       [13, 14, 15]])"
      ]
     },
     "execution_count": 21,
     "metadata": {},
     "output_type": "execute_result"
    }
   ],
   "source": [
    "y = np.arange(1,16)\n",
    "print(y)\n",
    "y.reshape(5,-1) # -1 wildcard"
   ]
  },
  {
   "cell_type": "code",
   "execution_count": 17,
   "id": "752b1703",
   "metadata": {},
   "outputs": [
    {
     "name": "stdout",
     "output_type": "stream",
     "text": [
      "[27.1219 25.0854 23.6253 23.1702 27.1219 25.7658]\n"
     ]
    }
   ],
   "source": [
    "# use the data below and return a bmi vector\n",
    "# that contains the body mass index of\n",
    "# the people in the data\n",
    "# bmi = 703 * weight/height^2\n",
    "# note: if you need height^2, python's synyax is height**2\n",
    "\n",
    "# do this without numpy and with numpy\n",
    "\n",
    "# 2d arrays, aka matrices\n",
    "height = [72, 68, 69, 64, 72, 72] # some height data in inches\n",
    "weight = [200, 165, 160, 135, 200, 190] # some weight data in lbs\n",
    "\n",
    "# without numpy\n",
    "#for i in range(len(height)):\n",
    "#    print(703 * weight[i] / height[i]**2)\n",
    "    \n",
    "np_height = np.array(height)\n",
    "np_weight = np.array(weight)\n",
    "\n",
    "#print(703 * np_weight/np_height**2)\n",
    "\n",
    "# you can always round decimal with the np.round()\n",
    "print(np.round(703 * np_weight/np_height**2,4))"
   ]
  },
  {
   "cell_type": "code",
   "execution_count": 22,
   "id": "79414da8",
   "metadata": {},
   "outputs": [
    {
     "name": "stdout",
     "output_type": "stream",
     "text": [
      "[[10, 11, 12, 13, 14], [1, 2, 3, 4, 5], [20, 21, 22, 23, 24]]\n"
     ]
    }
   ],
   "source": [
    "m = [[10,11,12,13,14],[1,2,3,4,5],[20,21,22,23,24]]\n",
    "print(m)"
   ]
  },
  {
   "cell_type": "code",
   "execution_count": 34,
   "id": "ce15c841",
   "metadata": {},
   "outputs": [
    {
     "name": "stdout",
     "output_type": "stream",
     "text": [
      "185\n",
      "[31 34 37 40 43]\n",
      "[ 60  15 110]\n"
     ]
    }
   ],
   "source": [
    "print(np.sum(m))\n",
    "print(np.sum(m,axis=0))\n",
    "print(np.sum(m,axis=1))"
   ]
  },
  {
   "cell_type": "code",
   "execution_count": 43,
   "id": "c5fba3d5",
   "metadata": {},
   "outputs": [
    {
     "name": "stdout",
     "output_type": "stream",
     "text": [
      "[10, 11, 12, 13, 14]\n",
      "12.0\n",
      "12.0\n",
      "10\n",
      "14\n",
      "1.4142135623730951\n",
      "3.141592653589793\n",
      "0.0\n",
      "180.0\n",
      "3.141592653589793\n"
     ]
    }
   ],
   "source": [
    "# some more statistical funcs to know\n",
    "print(m[0])\n",
    "print(np.median(m[0]))\n",
    "print(np.mean(m[0]))\n",
    "print(np.min(m[0]))\n",
    "print(np.max(m[0]))\n",
    "print(np.std(m[0]))\n",
    "\n",
    "# some funcs to know for numerical computation\n",
    "print(np.pi)\n",
    "print(np.sin(0))\n",
    "print(np.rad2deg(np.pi))\n",
    "print(np.deg2rad(180))"
   ]
  },
  {
   "cell_type": "code",
   "execution_count": 46,
   "id": "86f11f91",
   "metadata": {},
   "outputs": [
    {
     "name": "stdout",
     "output_type": "stream",
     "text": [
      "[[[10 20 30]\n",
      "  [40 50 60]]\n",
      "\n",
      " [[15 25 35]\n",
      "  [45 55 65]]\n",
      "\n",
      " [[70 80 90]\n",
      "  [75 85 95]]]\n"
     ]
    }
   ],
   "source": [
    "threeD = np.array([[[10,20,30],[40,50,60]],[[15,25,35],[45,55,65]],[[70,80,90],[75,85,95]]])\n",
    "print(threeD) # this is a array of matrices"
   ]
  },
  {
   "cell_type": "code",
   "execution_count": 53,
   "id": "b3646110",
   "metadata": {},
   "outputs": [
    {
     "name": "stdout",
     "output_type": "stream",
     "text": [
      "[[10 20 30]\n",
      " [40 50 60]]\n",
      "[40 50 60]\n",
      "20\n",
      "(3, 2, 3)\n",
      "3\n"
     ]
    }
   ],
   "source": [
    "print(threeD[0]) # returns the first matrix\n",
    "print(threeD[0,1]) # first number: matrix pos; second is: row position\n",
    "print(threeD[0,0,1]) # first number: matrix pos; second is: row position, third is: col position\n",
    "print(threeD.shape)\n",
    "print(threeD.ndim)"
   ]
  },
  {
   "cell_type": "code",
   "execution_count": 62,
   "id": "17a23c50",
   "metadata": {},
   "outputs": [
    {
     "name": "stdout",
     "output_type": "stream",
     "text": [
      "[[ 0  0  0]\n",
      " [10 10 10]\n",
      " [20 20 20]\n",
      " [30 30 30]]\n",
      "[0 1 2]\n",
      "[[ 0  1  2]\n",
      " [10 11 12]\n",
      " [20 21 22]\n",
      " [30 31 32]]\n",
      "[0 1 2 3]\n"
     ]
    },
    {
     "ename": "ValueError",
     "evalue": "operands could not be broadcast together with shapes (4,3) (4,) ",
     "output_type": "error",
     "traceback": [
      "\u001b[1;31m---------------------------------------------------------------------------\u001b[0m",
      "\u001b[1;31mValueError\u001b[0m                                Traceback (most recent call last)",
      "\u001b[1;32m~\\AppData\\Local\\Temp\\ipykernel_5448\\1877548143.py\u001b[0m in \u001b[0;36m<cell line: 11>\u001b[1;34m()\u001b[0m\n\u001b[0;32m      9\u001b[0m \u001b[1;31m#print(a+c) # incompatible\u001b[0m\u001b[1;33m\u001b[0m\u001b[1;33m\u001b[0m\u001b[0m\n\u001b[0;32m     10\u001b[0m \u001b[1;31m# practice: change c such that a+c becomes valid, hint: use resize()\u001b[0m\u001b[1;33m\u001b[0m\u001b[1;33m\u001b[0m\u001b[0m\n\u001b[1;32m---> 11\u001b[1;33m \u001b[0mprint\u001b[0m\u001b[1;33m(\u001b[0m\u001b[0ma\u001b[0m\u001b[1;33m+\u001b[0m\u001b[0mc\u001b[0m\u001b[1;33m.\u001b[0m\u001b[0mT\u001b[0m\u001b[1;33m)\u001b[0m\u001b[1;33m\u001b[0m\u001b[1;33m\u001b[0m\u001b[0m\n\u001b[0m",
      "\u001b[1;31mValueError\u001b[0m: operands could not be broadcast together with shapes (4,3) (4,) "
     ]
    }
   ],
   "source": [
    "# broadcasting\n",
    "a = np.array([[0,0,0],[10,10,10],[20,20,20],[30,30,30]])\n",
    "print(a)\n",
    "b = np.array([0,1,2])\n",
    "print(b)\n",
    "print(a+b) # works! note the dimensions 4x3 and 1x3, with broadcasting second becomes 4x3 too.\n",
    "c = np.array([0,1,2,3])\n",
    "print(c)\n",
    "#print(a+c) # incompatible\n",
    "# practice: change c such that a+c becomes valid, hint: use resize()\n",
    "print(a+c.T)"
   ]
  },
  {
   "cell_type": "code",
   "execution_count": 69,
   "id": "dd701da2",
   "metadata": {},
   "outputs": [
    {
     "name": "stdout",
     "output_type": "stream",
     "text": [
      "[[[[[1. 1. 1. 1.]\n",
      "    [1. 1. 1. 1.]\n",
      "    [1. 1. 1. 1.]\n",
      "    [1. 1. 1. 1.]\n",
      "    [1. 1. 1. 1.]\n",
      "    [1. 1. 1. 1.]\n",
      "    [1. 1. 1. 1.]\n",
      "    [1. 1. 1. 1.]]]\n",
      "\n",
      "\n",
      "  [[[1. 1. 1. 1.]\n",
      "    [1. 1. 1. 1.]\n",
      "    [1. 1. 1. 1.]\n",
      "    [1. 1. 1. 1.]\n",
      "    [1. 1. 1. 1.]\n",
      "    [1. 1. 1. 1.]\n",
      "    [1. 1. 1. 1.]\n",
      "    [1. 1. 1. 1.]]]\n",
      "\n",
      "\n",
      "  [[[1. 1. 1. 1.]\n",
      "    [1. 1. 1. 1.]\n",
      "    [1. 1. 1. 1.]\n",
      "    [1. 1. 1. 1.]\n",
      "    [1. 1. 1. 1.]\n",
      "    [1. 1. 1. 1.]\n",
      "    [1. 1. 1. 1.]\n",
      "    [1. 1. 1. 1.]]]\n",
      "\n",
      "\n",
      "  [[[1. 1. 1. 1.]\n",
      "    [1. 1. 1. 1.]\n",
      "    [1. 1. 1. 1.]\n",
      "    [1. 1. 1. 1.]\n",
      "    [1. 1. 1. 1.]\n",
      "    [1. 1. 1. 1.]\n",
      "    [1. 1. 1. 1.]\n",
      "    [1. 1. 1. 1.]]]\n",
      "\n",
      "\n",
      "  [[[1. 1. 1. 1.]\n",
      "    [1. 1. 1. 1.]\n",
      "    [1. 1. 1. 1.]\n",
      "    [1. 1. 1. 1.]\n",
      "    [1. 1. 1. 1.]\n",
      "    [1. 1. 1. 1.]\n",
      "    [1. 1. 1. 1.]\n",
      "    [1. 1. 1. 1.]]]]\n",
      "\n",
      "\n",
      "\n",
      " [[[[1. 1. 1. 1.]\n",
      "    [1. 1. 1. 1.]\n",
      "    [1. 1. 1. 1.]\n",
      "    [1. 1. 1. 1.]\n",
      "    [1. 1. 1. 1.]\n",
      "    [1. 1. 1. 1.]\n",
      "    [1. 1. 1. 1.]\n",
      "    [1. 1. 1. 1.]]]\n",
      "\n",
      "\n",
      "  [[[1. 1. 1. 1.]\n",
      "    [1. 1. 1. 1.]\n",
      "    [1. 1. 1. 1.]\n",
      "    [1. 1. 1. 1.]\n",
      "    [1. 1. 1. 1.]\n",
      "    [1. 1. 1. 1.]\n",
      "    [1. 1. 1. 1.]\n",
      "    [1. 1. 1. 1.]]]\n",
      "\n",
      "\n",
      "  [[[1. 1. 1. 1.]\n",
      "    [1. 1. 1. 1.]\n",
      "    [1. 1. 1. 1.]\n",
      "    [1. 1. 1. 1.]\n",
      "    [1. 1. 1. 1.]\n",
      "    [1. 1. 1. 1.]\n",
      "    [1. 1. 1. 1.]\n",
      "    [1. 1. 1. 1.]]]\n",
      "\n",
      "\n",
      "  [[[1. 1. 1. 1.]\n",
      "    [1. 1. 1. 1.]\n",
      "    [1. 1. 1. 1.]\n",
      "    [1. 1. 1. 1.]\n",
      "    [1. 1. 1. 1.]\n",
      "    [1. 1. 1. 1.]\n",
      "    [1. 1. 1. 1.]\n",
      "    [1. 1. 1. 1.]]]\n",
      "\n",
      "\n",
      "  [[[1. 1. 1. 1.]\n",
      "    [1. 1. 1. 1.]\n",
      "    [1. 1. 1. 1.]\n",
      "    [1. 1. 1. 1.]\n",
      "    [1. 1. 1. 1.]\n",
      "    [1. 1. 1. 1.]\n",
      "    [1. 1. 1. 1.]\n",
      "    [1. 1. 1. 1.]]]]]\n"
     ]
    }
   ],
   "source": [
    "x = np.ones((3,3))\n",
    "y = np.ones((1,4))\n",
    "\n",
    "#print(x+y) incompatible\n",
    "x = np.ones((2,5,1,8,4))\n",
    "y = np.ones((5,1,8,1))\n",
    "print(x)\n",
    "print(y)"
   ]
  },
  {
   "cell_type": "code",
   "execution_count": null,
   "id": "879d8c9f",
   "metadata": {},
   "outputs": [],
   "source": []
  }
 ],
 "metadata": {
  "kernelspec": {
   "display_name": "Python 3 (ipykernel)",
   "language": "python",
   "name": "python3"
  },
  "language_info": {
   "codemirror_mode": {
    "name": "ipython",
    "version": 3
   },
   "file_extension": ".py",
   "mimetype": "text/x-python",
   "name": "python",
   "nbconvert_exporter": "python",
   "pygments_lexer": "ipython3",
   "version": "3.9.16"
  }
 },
 "nbformat": 4,
 "nbformat_minor": 5
}
