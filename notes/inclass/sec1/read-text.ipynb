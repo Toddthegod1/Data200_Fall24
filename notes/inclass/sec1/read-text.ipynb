{
 "cells": [
  {
   "cell_type": "code",
   "execution_count": 11,
   "id": "5b449612-6ad8-4e57-ace0-480cec448382",
   "metadata": {},
   "outputs": [
    {
     "data": {
      "text/plain": [
       "'C:\\\\Users\\\\bilene'"
      ]
     },
     "execution_count": 11,
     "metadata": {},
     "output_type": "execute_result"
    }
   ],
   "source": [
    "import os\n",
    "os.getcwd()"
   ]
  },
  {
   "cell_type": "code",
   "execution_count": 5,
   "id": "acfc49dd-e79d-468c-ae64-f22b1f89f7a5",
   "metadata": {},
   "outputs": [],
   "source": [
    "os.chdir('MyFolder')"
   ]
  },
  {
   "cell_type": "code",
   "execution_count": 7,
   "id": "dc1442f0-27cc-493d-8fd3-2aa225118529",
   "metadata": {},
   "outputs": [
    {
     "data": {
      "text/plain": [
       "'C:\\\\Users\\\\bilene\\\\MyFolder'"
      ]
     },
     "execution_count": 7,
     "metadata": {},
     "output_type": "execute_result"
    }
   ],
   "source": [
    "os.getcwd()"
   ]
  },
  {
   "cell_type": "code",
   "execution_count": 9,
   "id": "a86154f5-dd59-48a2-9dc7-a7b24e2a49b4",
   "metadata": {},
   "outputs": [],
   "source": [
    "os.chdir('C:\\\\Users\\\\bilene')"
   ]
  },
  {
   "cell_type": "code",
   "execution_count": 13,
   "id": "08666f85-a090-4700-8611-e3b3ed9aed46",
   "metadata": {},
   "outputs": [],
   "source": [
    "os.mkdir('MyFolder2')"
   ]
  },
  {
   "cell_type": "code",
   "execution_count": 15,
   "id": "bf6ef02c-4abb-4656-ad7f-373c3ba3ae10",
   "metadata": {},
   "outputs": [],
   "source": [
    "os.chdir('MyFolder2')"
   ]
  },
  {
   "cell_type": "code",
   "execution_count": 17,
   "id": "a149d505-7e7d-4ed7-8a55-dff77cf6d910",
   "metadata": {},
   "outputs": [
    {
     "data": {
      "text/plain": [
       "'C:\\\\Users\\\\bilene\\\\MyFolder2'"
      ]
     },
     "execution_count": 17,
     "metadata": {},
     "output_type": "execute_result"
    }
   ],
   "source": [
    "os.getcwd()"
   ]
  },
  {
   "cell_type": "code",
   "execution_count": 19,
   "id": "ffb206cd-343c-4573-a418-2e5468560bc6",
   "metadata": {},
   "outputs": [],
   "source": [
    "os.chdir('C:\\\\Users\\\\bilene')"
   ]
  },
  {
   "cell_type": "code",
   "execution_count": 21,
   "id": "68cac0be-14a1-4217-b6f5-70dfb50e1728",
   "metadata": {},
   "outputs": [
    {
     "data": {
      "text/plain": [
       "'C:\\\\Users\\\\bilene'"
      ]
     },
     "execution_count": 21,
     "metadata": {},
     "output_type": "execute_result"
    }
   ],
   "source": [
    "os.getcwd()"
   ]
  },
  {
   "cell_type": "code",
   "execution_count": 23,
   "id": "11ce779c-3be3-41b1-a5f7-2ed94a938aa4",
   "metadata": {},
   "outputs": [],
   "source": [
    "os.chdir('Downloads')"
   ]
  },
  {
   "cell_type": "code",
   "execution_count": 25,
   "id": "fee320a1-ed07-4cf8-a729-2ede70f49593",
   "metadata": {},
   "outputs": [
    {
     "data": {
      "text/plain": [
       "'C:\\\\Users\\\\bilene\\\\Downloads'"
      ]
     },
     "execution_count": 25,
     "metadata": {},
     "output_type": "execute_result"
    }
   ],
   "source": [
    "os.getcwd()"
   ]
  },
  {
   "cell_type": "code",
   "execution_count": 29,
   "id": "87ab06ec-42a1-48e6-bf6c-c7a317abba3e",
   "metadata": {},
   "outputs": [],
   "source": [
    "file = open('hello.txt')"
   ]
  },
  {
   "cell_type": "code",
   "execution_count": 33,
   "id": "733311bd-b292-48e9-846c-b437a168aba8",
   "metadata": {},
   "outputs": [
    {
     "data": {
      "text/plain": [
       "'Hello World!\\n'"
      ]
     },
     "execution_count": 33,
     "metadata": {},
     "output_type": "execute_result"
    }
   ],
   "source": [
    "file.read()"
   ]
  },
  {
   "cell_type": "code",
   "execution_count": 35,
   "id": "ca576c14-63d9-4a05-8c6c-9f1ad74bde95",
   "metadata": {},
   "outputs": [],
   "source": [
    "file.close()"
   ]
  },
  {
   "cell_type": "code",
   "execution_count": null,
   "id": "009db1bc-24a9-4743-a209-13c606cbbd9d",
   "metadata": {},
   "outputs": [],
   "source": [
    "# read() function:"
   ]
  },
  {
   "cell_type": "code",
   "execution_count": null,
   "id": "a20a4947-c8f5-4ffd-964e-84cb5d137587",
   "metadata": {},
   "outputs": [],
   "source": [
    "#####\n",
    "# open\n",
    "file = open('hello.txt')\n",
    "# read\n",
    "file.read()\n",
    "# close\n",
    "file.close()"
   ]
  },
  {
   "cell_type": "code",
   "execution_count": 45,
   "id": "699a14f8-a88b-408a-8a9d-cdf4d5970f26",
   "metadata": {},
   "outputs": [
    {
     "name": "stdout",
     "output_type": "stream",
     "text": [
      "Hello World!\n",
      "\n"
     ]
    }
   ],
   "source": [
    "#####\n",
    "# instead do\n",
    "with open('hello.txt') as inputfile:\n",
    "    print(inputfile.read())"
   ]
  },
  {
   "cell_type": "code",
   "execution_count": 51,
   "id": "adcc68e8-0634-4858-99cf-5e0406f7634d",
   "metadata": {},
   "outputs": [],
   "source": [
    "#####\n",
    "# instead do\n",
    "with open('dog_breeds.txt') as inputfile:\n",
    "    content = inputfile.read()"
   ]
  },
  {
   "cell_type": "code",
   "execution_count": 53,
   "id": "ead464de-7035-476b-9843-315a4423e2d2",
   "metadata": {},
   "outputs": [
    {
     "name": "stdout",
     "output_type": "stream",
     "text": [
      "Pug\n",
      "Jack Russell Terrier\n",
      "English Springer Spaniel\n",
      "German Shepherd\n",
      "Staffordshire Bull Terrier\n",
      "Cavalier King Charles Spaniel\n",
      "Golden Retriever\n",
      "West Highland White Terrier\n",
      "Boxer\n",
      "Border Terrier\n"
     ]
    }
   ],
   "source": [
    "print(content)"
   ]
  },
  {
   "cell_type": "code",
   "execution_count": 57,
   "id": "1ef2884f-1f25-469a-969b-a28685d2e434",
   "metadata": {},
   "outputs": [
    {
     "data": {
      "text/plain": [
       "188"
      ]
     },
     "execution_count": 57,
     "metadata": {},
     "output_type": "execute_result"
    }
   ],
   "source": [
    "len(content)"
   ]
  },
  {
   "cell_type": "code",
   "execution_count": 59,
   "id": "13d127ae-f71a-482c-855f-c9f3c6a950bb",
   "metadata": {},
   "outputs": [
    {
     "data": {
      "text/plain": [
       "'Pug\\nJack Russell Ter'"
      ]
     },
     "execution_count": 59,
     "metadata": {},
     "output_type": "execute_result"
    }
   ],
   "source": [
    "content[0:20]"
   ]
  },
  {
   "cell_type": "code",
   "execution_count": null,
   "id": "04bc1e11-bfeb-4799-8c98-392f70f1507e",
   "metadata": {},
   "outputs": [],
   "source": [
    "################\n",
    "# readline()"
   ]
  },
  {
   "cell_type": "code",
   "execution_count": 71,
   "id": "0eb1905b-cdf2-4aa8-9e3b-d2bff6acee3e",
   "metadata": {},
   "outputs": [],
   "source": [
    "with open('dog_breeds.txt') as inputfile:\n",
    "    content1 = inputfile.readline()\n",
    "    content2 = inputfile.readline()"
   ]
  },
  {
   "cell_type": "code",
   "execution_count": 73,
   "id": "ae1ccd89-404b-40de-9db0-efb5f8c2c96a",
   "metadata": {},
   "outputs": [
    {
     "name": "stdout",
     "output_type": "stream",
     "text": [
      "Pug\n",
      "\n",
      "Jack Russell Terrier\n",
      "\n"
     ]
    }
   ],
   "source": [
    "print(content1)\n",
    "print(content2)"
   ]
  },
  {
   "cell_type": "code",
   "execution_count": 75,
   "id": "20fc8607-7142-472b-b064-a1a226174b6d",
   "metadata": {},
   "outputs": [],
   "source": [
    "contents=[]\n",
    "with open('dog_breeds.txt') as inputfile:\n",
    "    contents.append(inputfile.readline())\n",
    "    contents.append(inputfile.readline())"
   ]
  },
  {
   "cell_type": "code",
   "execution_count": 77,
   "id": "3d3e151a-af5a-4cae-ac8f-f28edb46281a",
   "metadata": {},
   "outputs": [
    {
     "name": "stdout",
     "output_type": "stream",
     "text": [
      "['Pug\\n', 'Jack Russell Terrier\\n']\n"
     ]
    }
   ],
   "source": [
    "print(contents)"
   ]
  },
  {
   "cell_type": "code",
   "execution_count": 81,
   "id": "0dd72044-4f99-4ae3-9606-5d61a6e2b6b7",
   "metadata": {},
   "outputs": [
    {
     "name": "stdout",
     "output_type": "stream",
     "text": [
      "Pug\n",
      "\n",
      "Jack Russell Terrier\n",
      "\n"
     ]
    }
   ],
   "source": [
    "print(contents[0])\n",
    "print(contents[1])"
   ]
  },
  {
   "cell_type": "code",
   "execution_count": 89,
   "id": "01a869ba-1dd0-4437-9d88-76ff55529eba",
   "metadata": {},
   "outputs": [],
   "source": [
    "# use loop\n",
    "contents=[]\n",
    "with open('dog_breeds.txt') as inputfile:\n",
    "    for line in range(10):\n",
    "        contents.append(inputfile.readline())"
   ]
  },
  {
   "cell_type": "code",
   "execution_count": 105,
   "id": "cd836d02-230a-4c19-ae1d-5291ede16cc4",
   "metadata": {},
   "outputs": [
    {
     "data": {
      "text/plain": [
       "'Pug\\n'"
      ]
     },
     "execution_count": 105,
     "metadata": {},
     "output_type": "execute_result"
    }
   ],
   "source": [
    "contents[0]"
   ]
  },
  {
   "cell_type": "code",
   "execution_count": 93,
   "id": "57f03b28-5dba-4f12-a006-5c423c1d4870",
   "metadata": {},
   "outputs": [],
   "source": [
    "############\n",
    "# readlines()\n",
    "with open('dog_breeds.txt') as inputfile:\n",
    "    content = inputfile.readlines()"
   ]
  },
  {
   "cell_type": "code",
   "execution_count": 95,
   "id": "a91d1bf2-600c-41a9-9e81-0a879750d05f",
   "metadata": {},
   "outputs": [
    {
     "name": "stdout",
     "output_type": "stream",
     "text": [
      "['Pug\\n', 'Jack Russell Terrier\\n', 'English Springer Spaniel\\n', 'German Shepherd\\n', 'Staffordshire Bull Terrier\\n', 'Cavalier King Charles Spaniel\\n', 'Golden Retriever\\n', 'West Highland White Terrier\\n', 'Boxer\\n', 'Border Terrier']\n"
     ]
    }
   ],
   "source": [
    "print(content)"
   ]
  },
  {
   "cell_type": "code",
   "execution_count": 119,
   "id": "c8c8321d-e149-4cce-84cf-29349203508c",
   "metadata": {},
   "outputs": [
    {
     "data": {
      "text/plain": [
       "'Pug'"
      ]
     },
     "execution_count": 119,
     "metadata": {},
     "output_type": "execute_result"
    }
   ],
   "source": [
    "# useful funcs to know:\n",
    "# strip()\n",
    "contents[0].strip()\n",
    "# or\n",
    "contents[0].strip('\\n')\n",
    "# or\n",
    "contents[0].rstrip('\\n')\n",
    "# if you want to trim the lhs:\n",
    "#contents[0].lstrip('\\n')"
   ]
  },
  {
   "cell_type": "code",
   "execution_count": 127,
   "id": "cf731b83-531e-4c95-b54b-4647b9bd2d2e",
   "metadata": {},
   "outputs": [
    {
     "data": {
      "text/plain": [
       "'      banana'"
      ]
     },
     "execution_count": 127,
     "metadata": {},
     "output_type": "execute_result"
    }
   ],
   "source": [
    "# Another strip example\n",
    "txt = \"      banana         \"\n",
    "txt.strip() # gets rid of lhs and rhs white space\n",
    "txt.strip(' ')\n",
    "#txt.rstrip()"
   ]
  },
  {
   "cell_type": "code",
   "execution_count": 137,
   "id": "f692e0a9-b164-4d7a-af72-57564ad8f76d",
   "metadata": {},
   "outputs": [
    {
     "data": {
      "text/plain": [
       "['Jack', 'Russell', 'Terrier']"
      ]
     },
     "execution_count": 137,
     "metadata": {},
     "output_type": "execute_result"
    }
   ],
   "source": [
    "# split()\n",
    "contents[1].split() # default seperator is whitespace"
   ]
  },
  {
   "cell_type": "code",
   "execution_count": 147,
   "id": "ae525975-e4b0-4df9-a8bf-8eb1c60679f9",
   "metadata": {},
   "outputs": [
    {
     "data": {
      "text/plain": [
       "['Milk', 'Chicken', 'Bread']"
      ]
     },
     "execution_count": 147,
     "metadata": {},
     "output_type": "execute_result"
    }
   ],
   "source": [
    "# practice\n",
    "grocery = 'Milk, Chicken, Bread'\n",
    "# store this object as a list using split()\n",
    "grocery.split(', ')"
   ]
  },
  {
   "cell_type": "code",
   "execution_count": 157,
   "id": "53c1172b-4a37-489e-b8ae-e69384b49677",
   "metadata": {},
   "outputs": [
    {
     "name": "stdout",
     "output_type": "stream",
     "text": [
      "C:\\Users\\bilene\\Downloads\\dog_breeds.txt\n"
     ]
    }
   ],
   "source": [
    "# good practices:\n",
    "datadir = os.getcwd()\n",
    "#filepath = datadir + \"\\\\dog_breeds.txt\"\n",
    "# alternatively,\n",
    "filepath = os.path.join(datadir, \"dog_breeds.txt\")"
   ]
  },
  {
   "cell_type": "code",
   "execution_count": 161,
   "id": "03cf9c5c-06b6-4c9f-ba6f-49f97531c3e0",
   "metadata": {},
   "outputs": [
    {
     "name": "stdout",
     "output_type": "stream",
     "text": [
      "error opening the file\n"
     ]
    }
   ],
   "source": [
    "# try except block:\n",
    "try:\n",
    "    with open('dog_breedxs.txt') as inputfile:\n",
    "        content = inputfile.read()\n",
    "    print('file read successfully!')\n",
    "except:\n",
    "    print('error opening the file')"
   ]
  },
  {
   "cell_type": "code",
   "execution_count": null,
   "id": "91e021fe-2b27-47db-91ca-0b8388f62250",
   "metadata": {},
   "outputs": [],
   "source": [
    "# read \"baby_2010_female_namecount.txt\" file\n",
    "# store the information in two lists\n",
    "# first list, call it \"names\"\n",
    "# second list, call it \"counts\"\n",
    "\n",
    "# free to use read(), readline(), or readlines()\n",
    "# hint: use split()"
   ]
  }
 ],
 "metadata": {
  "kernelspec": {
   "display_name": "Python 3 (ipykernel)",
   "language": "python",
   "name": "python3"
  },
  "language_info": {
   "codemirror_mode": {
    "name": "ipython",
    "version": 3
   },
   "file_extension": ".py",
   "mimetype": "text/x-python",
   "name": "python",
   "nbconvert_exporter": "python",
   "pygments_lexer": "ipython3",
   "version": "3.12.4"
  }
 },
 "nbformat": 4,
 "nbformat_minor": 5
}
