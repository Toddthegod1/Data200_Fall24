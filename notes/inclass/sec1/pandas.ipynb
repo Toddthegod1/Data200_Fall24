{
 "cells": [
  {
   "cell_type": "code",
   "execution_count": 30,
   "id": "6f44e2d0",
   "metadata": {},
   "outputs": [],
   "source": [
    "# DoL\n",
    "topnames = {'year':[2018,2018,2017,2017,2016,2016],\n",
    "           'sex':['Male','Female','Male','Female','Male','Female'],\n",
    "           'name':['Liam','Emma','Liam','Emma','Noah','Emma'],\n",
    "           'count':[19837,18688,18798,19800,19117,1996]}"
   ]
  },
  {
   "cell_type": "code",
   "execution_count": 31,
   "id": "b5f4437c",
   "metadata": {},
   "outputs": [
    {
     "data": {
      "text/plain": [
       "{'year': [2018, 2018, 2017, 2017, 2016, 2016],\n",
       " 'sex': ['Male', 'Female', 'Male', 'Female', 'Male', 'Female'],\n",
       " 'name': ['Liam', 'Emma', 'Liam', 'Emma', 'Noah', 'Emma'],\n",
       " 'count': [19837, 18688, 18798, 19800, 19117, 1996]}"
      ]
     },
     "execution_count": 31,
     "metadata": {},
     "output_type": "execute_result"
    }
   ],
   "source": [
    "topnames"
   ]
  },
  {
   "cell_type": "code",
   "execution_count": 33,
   "id": "622100f7",
   "metadata": {},
   "outputs": [
    {
     "data": {
      "text/plain": [
       "[2018, 2018, 2017, 2017, 2016, 2016]"
      ]
     },
     "execution_count": 33,
     "metadata": {},
     "output_type": "execute_result"
    }
   ],
   "source": [
    "topnames['year']"
   ]
  },
  {
   "cell_type": "code",
   "execution_count": 9,
   "id": "b84d1b36",
   "metadata": {},
   "outputs": [
    {
     "data": {
      "text/plain": [
       "[2017, 'Female', 'Emma', 19800]"
      ]
     },
     "execution_count": 9,
     "metadata": {},
     "output_type": "execute_result"
    }
   ],
   "source": [
    "[topnames['year'][3],topnames['sex'][3],topnames['name'][3],topnames['count'][3]]"
   ]
  },
  {
   "cell_type": "code",
   "execution_count": 40,
   "id": "745ed093",
   "metadata": {},
   "outputs": [],
   "source": [
    "# LoL\n",
    "topnames = [[2018,'Male','Liam',19837],\n",
    "           [2018,'Female','Emma',18688],\n",
    "           [2017,'Male','Liam',18798],\n",
    "           [2017,'Female','Emma',19800],\n",
    "           [2016,'Male','Noah',19117],\n",
    "           [2016,'Female','Emma',19496]]"
   ]
  },
  {
   "cell_type": "code",
   "execution_count": 35,
   "id": "780c5ccc",
   "metadata": {},
   "outputs": [
    {
     "data": {
      "text/plain": [
       "[2017, 'Female', 'Emma', 19800]"
      ]
     },
     "execution_count": 35,
     "metadata": {},
     "output_type": "execute_result"
    }
   ],
   "source": [
    "topnames[3]"
   ]
  },
  {
   "cell_type": "code",
   "execution_count": 42,
   "id": "fac87a28",
   "metadata": {},
   "outputs": [
    {
     "data": {
      "text/plain": [
       "[2018, 2018, 2017, 2017, 2016, 2016]"
      ]
     },
     "execution_count": 42,
     "metadata": {},
     "output_type": "execute_result"
    }
   ],
   "source": [
    "my_row = []\n",
    "# return the year col\n",
    "for i in range(len(topnames)):\n",
    "    my_row.append(topnames[i][0])\n",
    "my_row"
   ]
  },
  {
   "cell_type": "code",
   "execution_count": 47,
   "id": "2e1f50cf",
   "metadata": {},
   "outputs": [
    {
     "data": {
      "text/html": [
       "<div>\n",
       "<style scoped>\n",
       "    .dataframe tbody tr th:only-of-type {\n",
       "        vertical-align: middle;\n",
       "    }\n",
       "\n",
       "    .dataframe tbody tr th {\n",
       "        vertical-align: top;\n",
       "    }\n",
       "\n",
       "    .dataframe thead th {\n",
       "        text-align: right;\n",
       "    }\n",
       "</style>\n",
       "<table border=\"1\" class=\"dataframe\">\n",
       "  <thead>\n",
       "    <tr style=\"text-align: right;\">\n",
       "      <th></th>\n",
       "      <th>year</th>\n",
       "      <th>sex</th>\n",
       "      <th>name</th>\n",
       "      <th>count</th>\n",
       "    </tr>\n",
       "  </thead>\n",
       "  <tbody>\n",
       "    <tr>\n",
       "      <th>0</th>\n",
       "      <td>2018</td>\n",
       "      <td>Male</td>\n",
       "      <td>Liam</td>\n",
       "      <td>19837</td>\n",
       "    </tr>\n",
       "    <tr>\n",
       "      <th>1</th>\n",
       "      <td>2018</td>\n",
       "      <td>Female</td>\n",
       "      <td>Emma</td>\n",
       "      <td>18688</td>\n",
       "    </tr>\n",
       "    <tr>\n",
       "      <th>2</th>\n",
       "      <td>2017</td>\n",
       "      <td>Male</td>\n",
       "      <td>Liam</td>\n",
       "      <td>18798</td>\n",
       "    </tr>\n",
       "    <tr>\n",
       "      <th>3</th>\n",
       "      <td>2017</td>\n",
       "      <td>Female</td>\n",
       "      <td>Emma</td>\n",
       "      <td>19800</td>\n",
       "    </tr>\n",
       "    <tr>\n",
       "      <th>4</th>\n",
       "      <td>2016</td>\n",
       "      <td>Male</td>\n",
       "      <td>Noah</td>\n",
       "      <td>19117</td>\n",
       "    </tr>\n",
       "    <tr>\n",
       "      <th>5</th>\n",
       "      <td>2016</td>\n",
       "      <td>Female</td>\n",
       "      <td>Emma</td>\n",
       "      <td>19496</td>\n",
       "    </tr>\n",
       "  </tbody>\n",
       "</table>\n",
       "</div>"
      ],
      "text/plain": [
       "   year     sex  name  count\n",
       "0  2018    Male  Liam  19837\n",
       "1  2018  Female  Emma  18688\n",
       "2  2017    Male  Liam  18798\n",
       "3  2017  Female  Emma  19800\n",
       "4  2016    Male  Noah  19117\n",
       "5  2016  Female  Emma  19496"
      ]
     },
     "execution_count": 47,
     "metadata": {},
     "output_type": "execute_result"
    }
   ],
   "source": [
    "# work with pandas instead\n",
    "import pandas as pd\n",
    "# Pandas dataframe\n",
    "df = pd.DataFrame(topnames,columns=['year','sex','name','count'])\n",
    "df"
   ]
  },
  {
   "cell_type": "code",
   "execution_count": 49,
   "id": "42beaeb6",
   "metadata": {},
   "outputs": [
    {
     "name": "stdout",
     "output_type": "stream",
     "text": [
      "0    2018\n",
      "1    2018\n",
      "2    2017\n",
      "3    2017\n",
      "4    2016\n",
      "5    2016\n",
      "Name: year, dtype: int64\n",
      "0    2018\n",
      "1    2018\n",
      "2    2017\n",
      "3    2017\n",
      "4    2016\n",
      "5    2016\n",
      "Name: year, dtype: int64\n"
     ]
    }
   ],
   "source": [
    "# very easy to access cols\n",
    "print(df.iloc[:,0]) # returns the year col using index location\n",
    "print(df['year']) # likewise, but using col name"
   ]
  },
  {
   "cell_type": "code",
   "execution_count": 51,
   "id": "0a40ff95",
   "metadata": {},
   "outputs": [
    {
     "data": {
      "text/plain": [
       "year       2017\n",
       "sex      Female\n",
       "name       Emma\n",
       "count     19800\n",
       "Name: 3, dtype: object"
      ]
     },
     "execution_count": 51,
     "metadata": {},
     "output_type": "execute_result"
    }
   ],
   "source": [
    "# very easy to access rows too!\n",
    "df.iloc[3,:]"
   ]
  },
  {
   "cell_type": "code",
   "execution_count": 53,
   "id": "f2034051",
   "metadata": {},
   "outputs": [
    {
     "name": "stdout",
     "output_type": "stream",
     "text": [
      "2017\n",
      "2017\n"
     ]
    }
   ],
   "source": [
    "print(df.iloc[3,:][0]) # data in row 3 col 1\n",
    "print(df['year'][3]) # same info"
   ]
  },
  {
   "cell_type": "code",
   "execution_count": 54,
   "id": "74912044",
   "metadata": {},
   "outputs": [
    {
     "data": {
      "text/plain": [
       "pandas.core.frame.DataFrame"
      ]
     },
     "execution_count": 54,
     "metadata": {},
     "output_type": "execute_result"
    }
   ],
   "source": [
    "type(df) # df is a DataFrame object"
   ]
  },
  {
   "cell_type": "code",
   "execution_count": 56,
   "id": "a4ee98c5",
   "metadata": {},
   "outputs": [
    {
     "data": {
      "text/plain": [
       "pandas.core.series.Series"
      ]
     },
     "execution_count": 56,
     "metadata": {},
     "output_type": "execute_result"
    }
   ],
   "source": [
    "type(df['year']) # Pandas Series are arrays like in numpy"
   ]
  },
  {
   "cell_type": "code",
   "execution_count": 58,
   "id": "aade0ded",
   "metadata": {},
   "outputs": [
    {
     "data": {
      "text/plain": [
       "0    4036\n",
       "1    4036\n",
       "2    4034\n",
       "3    4034\n",
       "4    4032\n",
       "5    4032\n",
       "Name: year, dtype: int64"
      ]
     },
     "execution_count": 58,
     "metadata": {},
     "output_type": "execute_result"
    }
   ],
   "source": [
    "df['year']*2 # broadcasting here works because pandas is built on numpy"
   ]
  },
  {
   "cell_type": "code",
   "execution_count": null,
   "id": "03c9c02f",
   "metadata": {},
   "outputs": [],
   "source": []
  }
 ],
 "metadata": {
  "kernelspec": {
   "display_name": "Python 3 (ipykernel)",
   "language": "python",
   "name": "python3"
  },
  "language_info": {
   "codemirror_mode": {
    "name": "ipython",
    "version": 3
   },
   "file_extension": ".py",
   "mimetype": "text/x-python",
   "name": "python",
   "nbconvert_exporter": "python",
   "pygments_lexer": "ipython3",
   "version": "3.9.16"
  }
 },
 "nbformat": 4,
 "nbformat_minor": 5
}
