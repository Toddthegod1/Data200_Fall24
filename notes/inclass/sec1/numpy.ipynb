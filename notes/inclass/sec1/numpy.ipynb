{
 "cells": [
  {
   "cell_type": "code",
   "execution_count": 1,
   "id": "c7708be0",
   "metadata": {},
   "outputs": [],
   "source": [
    "import numpy as np"
   ]
  },
  {
   "cell_type": "code",
   "execution_count": 12,
   "id": "08c58b25",
   "metadata": {},
   "outputs": [],
   "source": [
    "height = [72, 68, 69, 64, 72, 72] # some height data in inches\n",
    "\n",
    "# convert this data height data from inches to meters (w/o numpy):\n",
    "# 1 inch = 0.0254 meter\n",
    "for i in range(len(height)):\n",
    "    height_m.append(height[i]*0.0254)"
   ]
  },
  {
   "cell_type": "code",
   "execution_count": 14,
   "id": "7849b3d8",
   "metadata": {},
   "outputs": [
    {
     "data": {
      "text/plain": [
       "[1.8288,\n",
       " 1.7271999999999998,\n",
       " 1.8288,\n",
       " 1.7271999999999998,\n",
       " 1.7526,\n",
       " 1.6256,\n",
       " 1.8288,\n",
       " 1.8288]"
      ]
     },
     "execution_count": 14,
     "metadata": {},
     "output_type": "execute_result"
    }
   ],
   "source": [
    "height_m"
   ]
  },
  {
   "cell_type": "code",
   "execution_count": 16,
   "id": "745d6ea4",
   "metadata": {},
   "outputs": [
    {
     "data": {
      "text/plain": [
       "array([72, 68, 69, 64, 72, 72])"
      ]
     },
     "execution_count": 16,
     "metadata": {},
     "output_type": "execute_result"
    }
   ],
   "source": [
    "np_height = np.array(height)\n",
    "np_height"
   ]
  },
  {
   "cell_type": "code",
   "execution_count": 17,
   "id": "81bb46f8",
   "metadata": {},
   "outputs": [
    {
     "data": {
      "text/plain": [
       "array([1.8288, 1.7272, 1.7526, 1.6256, 1.8288, 1.8288])"
      ]
     },
     "execution_count": 17,
     "metadata": {},
     "output_type": "execute_result"
    }
   ],
   "source": [
    "np_height*0.0254 # works because of vectorization"
   ]
  },
  {
   "cell_type": "code",
   "execution_count": 20,
   "id": "6a2243f3",
   "metadata": {},
   "outputs": [
    {
     "name": "stdout",
     "output_type": "stream",
     "text": [
      "[2, 4, 6, 1, 3, 5]\n",
      "[ 3  7 11]\n"
     ]
    }
   ],
   "source": [
    "my_list1 = [2,4,6]\n",
    "my_list2 = [1,3,5]\n",
    "\n",
    "print(my_list1 + my_list2) # appends the lists\n",
    "\n",
    "np_mylist1 = np.array(my_list1)\n",
    "np_mylist2 = np.array(my_list2)\n",
    "\n",
    "print(np_mylist1 + np_mylist2)"
   ]
  },
  {
   "cell_type": "code",
   "execution_count": 32,
   "id": "548c2f04",
   "metadata": {},
   "outputs": [
    {
     "name": "stdout",
     "output_type": "stream",
     "text": [
      "int32\n",
      "float64\n",
      "[1. 2. 3.]\n",
      "float64\n"
     ]
    }
   ],
   "source": [
    "numbers = [1,2,3]\n",
    "numbers2= [10.0, 12.1, 35.3]\n",
    "\n",
    "print(np.array(numbers).dtype)\n",
    "print(np.array(numbers2).dtype)\n",
    "print(np.array(numbers,dtype='float'))\n",
    "print(np.array(numbers,dtype='float').dtype)"
   ]
  },
  {
   "cell_type": "code",
   "execution_count": 33,
   "id": "d550a226",
   "metadata": {},
   "outputs": [
    {
     "name": "stdout",
     "output_type": "stream",
     "text": [
      "[18 23 89 11 35 37]\n"
     ]
    }
   ],
   "source": [
    "age = [18,23,89,11,35,37] # some age data\n",
    "np_age = np.array(age)\n",
    "print(np_age)"
   ]
  },
  {
   "cell_type": "code",
   "execution_count": 51,
   "id": "68ac388a",
   "metadata": {},
   "outputs": [
    {
     "name": "stdout",
     "output_type": "stream",
     "text": [
      "89\n",
      "[89 11]\n",
      "[18 23 89]\n",
      "[11 35 37]\n",
      "[18 89 35]\n",
      "[37 35 11 89 23 18]\n"
     ]
    }
   ],
   "source": [
    "print(np_age[2])\n",
    "print(np_age[2:4])\n",
    "print(np_age[:3]) # equivalent to np_age[0:3]\n",
    "print(np_age[3:]) # equivalent to np_age[3:7]\n",
    "print(np_age[::2]) # equivalent to np_age[0:7:2]\n",
    "print(np_age[::-1]) # \"steps of -1\""
   ]
  },
  {
   "cell_type": "code",
   "execution_count": 57,
   "id": "f3d64451",
   "metadata": {},
   "outputs": [
    {
     "name": "stdout",
     "output_type": "stream",
     "text": [
      "[0 1 2 3 4]\n",
      "[0 2 4]\n",
      "[0 1 2 3 4]\n",
      "[-5 -4 -3 -2 -1  0  1  2  3  4]\n",
      "[4 3 2 1 0]\n"
     ]
    }
   ],
   "source": [
    "print(np.arange(0,5)) # python does not use the end number\n",
    "print(np.arange(0,5,2))\n",
    "print(np.arange(5)) # equivalent to the first line\n",
    "print(np.arange(-5,5)) # works with negative numbers too\n",
    "print(np.arange(4,-1,-1)) # works in reverse too"
   ]
  },
  {
   "cell_type": "code",
   "execution_count": 65,
   "id": "102822c4",
   "metadata": {},
   "outputs": [
    {
     "name": "stdout",
     "output_type": "stream",
     "text": [
      "[89 35 37]\n",
      "[18 89 11 35 37]\n"
     ]
    }
   ],
   "source": [
    "#np_age\n",
    "print(np_age[np_age > 30]) # returns people over 30\n",
    "print(np_age[(np_age >30) | (np_age<20)]) # you can two conditions (could be and \"&\", or \"|\", not \"~\")"
   ]
  },
  {
   "cell_type": "code",
   "execution_count": 70,
   "id": "53992437",
   "metadata": {},
   "outputs": [
    {
     "name": "stdout",
     "output_type": "stream",
     "text": [
      "[[ 72  68  69  64  72  72]\n",
      " [200 165 160 135 200 190]]\n"
     ]
    }
   ],
   "source": [
    "# 2d arrays, aka matrics\n",
    "height = [72, 68, 69, 64, 72, 72] # some height data in inches\n",
    "weight = [200, 165, 160, 135, 200, 190] # some weight data in lbs\n",
    "\n",
    "# create a numpy array (2d)\n",
    "data = np.array([height,weight])\n",
    "print(data)"
   ]
  },
  {
   "cell_type": "code",
   "execution_count": 72,
   "id": "742567d4",
   "metadata": {},
   "outputs": [
    {
     "name": "stdout",
     "output_type": "stream",
     "text": [
      "2\n",
      "(2, 6)\n"
     ]
    }
   ],
   "source": [
    "print(data.ndim) # returns the number of dimensions of your array\n",
    "print(data.shape) # shows the object has 2 rows and 6 cols"
   ]
  },
  {
   "cell_type": "code",
   "execution_count": 75,
   "id": "d8da543b",
   "metadata": {},
   "outputs": [
    {
     "data": {
      "text/plain": [
       "68"
      ]
     },
     "execution_count": 75,
     "metadata": {},
     "output_type": "execute_result"
    }
   ],
   "source": [
    "data[0,1] # element inside row 1, col 2, equilvanet to data[0][1]"
   ]
  },
  {
   "cell_type": "code",
   "execution_count": 76,
   "id": "00b9963b",
   "metadata": {},
   "outputs": [
    {
     "data": {
      "text/plain": [
       "array([72, 68, 69, 64, 72, 72])"
      ]
     },
     "execution_count": 76,
     "metadata": {},
     "output_type": "execute_result"
    }
   ],
   "source": [
    "data[0] # returns the entire row 1"
   ]
  },
  {
   "cell_type": "code",
   "execution_count": 88,
   "id": "bd041b3d",
   "metadata": {},
   "outputs": [
    {
     "data": {
      "text/plain": [
       "array([ 68, 165])"
      ]
     },
     "execution_count": 88,
     "metadata": {},
     "output_type": "execute_result"
    }
   ],
   "source": [
    "data[:,1] # returns the entire col 2"
   ]
  },
  {
   "cell_type": "code",
   "execution_count": 94,
   "id": "e3eb90c5",
   "metadata": {},
   "outputs": [
    {
     "name": "stdout",
     "output_type": "stream",
     "text": [
      "[1 2 3 4 5 6 7 8 9]\n",
      "[[1 2 3]\n",
      " [4 5 6]\n",
      " [7 8 9]]\n",
      "None\n"
     ]
    }
   ],
   "source": [
    "x = np.arange(1,10) # creates a vector from 1 to 9 with the default step size of 1\n",
    "print(x)\n",
    "print(x.reshape(3,3))\n",
    "print(x.resize(3,3)) # exactly the same as reshape, but it overwrites your original x vector"
   ]
  },
  {
   "cell_type": "code",
   "execution_count": 96,
   "id": "f1aa3fc0",
   "metadata": {},
   "outputs": [
    {
     "name": "stdout",
     "output_type": "stream",
     "text": [
      "[[1 2 3]\n",
      " [4 5 6]\n",
      " [7 8 9]]\n"
     ]
    }
   ],
   "source": [
    "print(x)"
   ]
  },
  {
   "cell_type": "code",
   "execution_count": 95,
   "id": "b889f453",
   "metadata": {},
   "outputs": [
    {
     "data": {
      "text/plain": [
       "(3, 3)"
      ]
     },
     "execution_count": 95,
     "metadata": {},
     "output_type": "execute_result"
    }
   ],
   "source": [
    "x.shape"
   ]
  },
  {
   "cell_type": "code",
   "execution_count": null,
   "id": "752b1703",
   "metadata": {},
   "outputs": [],
   "source": [
    "# use the data below and return a bmi vector\n",
    "# that contains the body mass index of\n",
    "# the people in the data\n",
    "# bmi = 703 * weight/height^2\n",
    "# note: if you need height^2, python's synyax is height**2\n",
    "\n",
    "# do this without numpy and with numpy\n",
    "\n",
    "# 2d arrays, aka matrics\n",
    "height = [72, 68, 69, 64, 72, 72] # some height data in inches\n",
    "weight = [200, 165, 160, 135, 200, 190] # some weight data in lbs"
   ]
  }
 ],
 "metadata": {
  "kernelspec": {
   "display_name": "Python 3 (ipykernel)",
   "language": "python",
   "name": "python3"
  },
  "language_info": {
   "codemirror_mode": {
    "name": "ipython",
    "version": 3
   },
   "file_extension": ".py",
   "mimetype": "text/x-python",
   "name": "python",
   "nbconvert_exporter": "python",
   "pygments_lexer": "ipython3",
   "version": "3.9.16"
  }
 },
 "nbformat": 4,
 "nbformat_minor": 5
}
