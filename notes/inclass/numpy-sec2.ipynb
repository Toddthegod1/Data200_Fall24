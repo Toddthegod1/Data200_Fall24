{
 "cells": [
  {
   "cell_type": "code",
   "execution_count": 4,
   "id": "6a02798a",
   "metadata": {},
   "outputs": [],
   "source": [
    "import numpy as np"
   ]
  },
  {
   "cell_type": "code",
   "execution_count": 10,
   "id": "1e83971f",
   "metadata": {},
   "outputs": [
    {
     "name": "stdout",
     "output_type": "stream",
     "text": [
      "[1.8288, 1.7271999999999998, 1.7526, 1.7271999999999998, 1.6256, 1.8288]\n"
     ]
    }
   ],
   "source": [
    "height = [72, 68, 69, 68, 64, 72] # some height data in inches\n",
    "\n",
    "# convert each of these height data from inches to meters\n",
    "# 1 inch = 0.0254 meter\n",
    "\n",
    "height_m = []\n",
    "# do this without using numpy\n",
    "for i in range(0,len(height)):\n",
    "    height_m.append(height[i] * 0.0254)\n",
    "print(height_m)"
   ]
  },
  {
   "cell_type": "code",
   "execution_count": 15,
   "id": "1a4a887c",
   "metadata": {},
   "outputs": [
    {
     "data": {
      "text/plain": [
       "array([72, 68, 69, 68, 64, 72])"
      ]
     },
     "execution_count": 15,
     "metadata": {},
     "output_type": "execute_result"
    }
   ],
   "source": [
    "# instead use numpy which is much faster\n",
    "# first create a numpy array\n",
    "np_height = np.array(height)\n",
    "np_height"
   ]
  },
  {
   "cell_type": "code",
   "execution_count": 16,
   "id": "99dfc97d",
   "metadata": {},
   "outputs": [
    {
     "data": {
      "text/plain": [
       "array([1.8288, 1.7272, 1.7526, 1.7272, 1.6256, 1.8288])"
      ]
     },
     "execution_count": 16,
     "metadata": {},
     "output_type": "execute_result"
    }
   ],
   "source": [
    "np_height*0.0254"
   ]
  },
  {
   "cell_type": "code",
   "execution_count": 19,
   "id": "915a7241",
   "metadata": {},
   "outputs": [
    {
     "name": "stdout",
     "output_type": "stream",
     "text": [
      "[1, 2, 3, 4, 5, 6]\n",
      "[5 7 9]\n"
     ]
    }
   ],
   "source": [
    "# one difference between lists and numpy arrays\n",
    "print([1,2,3] + [4,5,6])\n",
    "print(np.array([1,2,3]) + np.array([4,5,6]))\n",
    "# I want the output: [5,7,9]"
   ]
  },
  {
   "cell_type": "code",
   "execution_count": 20,
   "id": "e6cbdf67",
   "metadata": {},
   "outputs": [
    {
     "data": {
      "text/plain": [
       "dtype('int32')"
      ]
     },
     "execution_count": 20,
     "metadata": {},
     "output_type": "execute_result"
    }
   ],
   "source": [
    "np.array([1,2,3]).dtype"
   ]
  },
  {
   "cell_type": "code",
   "execution_count": 22,
   "id": "5aec9b2d",
   "metadata": {},
   "outputs": [
    {
     "data": {
      "text/plain": [
       "dtype('float64')"
      ]
     },
     "execution_count": 22,
     "metadata": {},
     "output_type": "execute_result"
    }
   ],
   "source": [
    "np.array([1.75,2.0,3]).dtype"
   ]
  },
  {
   "cell_type": "code",
   "execution_count": 24,
   "id": "0e9a5d05",
   "metadata": {},
   "outputs": [
    {
     "name": "stdout",
     "output_type": "stream",
     "text": [
      "[18 23 89 11 35 37]\n"
     ]
    }
   ],
   "source": [
    "# accessing elements\n",
    "age = [18,23,89,11,35,37] # some age data\n",
    "np_age = np.array(age)\n",
    "print(np_age)"
   ]
  },
  {
   "cell_type": "code",
   "execution_count": 43,
   "id": "428e248b",
   "metadata": {},
   "outputs": [
    {
     "data": {
      "text/plain": [
       "array([18, 23, 11])"
      ]
     },
     "execution_count": 43,
     "metadata": {},
     "output_type": "execute_result"
    }
   ],
   "source": [
    "np_age[1] # returns the the second element: 23\n",
    "np_age[1:3] # returns elements 2 and 3: [23 89]\n",
    "np_age[:3] # returns elements from 0 up to 3: [18 23 89]\n",
    "np_age[3:] # returns the last 3 elements: [11 35 37]\n",
    "np_age[::2] # returns the first, third, and the fifth elements: [18 89 35]\n",
    "np_age[::-1] # returns the same array, but in reverse: [37 35 11 89 23 18]\n",
    "np_age[np_age<30] # returns values with age < 30: Hint: think back to R \"filtering\""
   ]
  },
  {
   "cell_type": "code",
   "execution_count": 48,
   "id": "28f2f1d9",
   "metadata": {},
   "outputs": [
    {
     "data": {
      "text/plain": [
       "array([9, 8, 7, 6, 5, 4, 3, 2, 1, 0])"
      ]
     },
     "execution_count": 48,
     "metadata": {},
     "output_type": "execute_result"
    }
   ],
   "source": [
    "print(range(0,10,1)) # creates a list of numbers from 0 up to 9\n",
    "print(np.arange(0,10,1)) # numpy array version of it\n",
    "print(np.arange(9,-1,-1)) # works in the reverse direction too"
   ]
  },
  {
   "cell_type": "code",
   "execution_count": 51,
   "id": "d0f4c8d3",
   "metadata": {},
   "outputs": [
    {
     "name": "stdout",
     "output_type": "stream",
     "text": [
      "[18 23 89 11]\n"
     ]
    }
   ],
   "source": [
    "# what if you want to return people with age <30 or age >60\n",
    "# or: \"|\"\n",
    "# and: \"&\"\n",
    "# not: \"~\"\n",
    "print(np_age[(np_age<30) | (np_age >60)])"
   ]
  },
  {
   "cell_type": "code",
   "execution_count": 59,
   "id": "33750259",
   "metadata": {},
   "outputs": [
    {
     "name": "stdout",
     "output_type": "stream",
     "text": [
      "[[ 72  68  69  68  64  72]\n",
      " [200 165 160 135 120 200]]\n"
     ]
    }
   ],
   "source": [
    "# 2d arrays, aka matrices\n",
    "height = [72, 68, 69, 68, 64, 72] # some height data in inches\n",
    "weight = [200, 165, 160, 135, 120, 200] # some weight data in lbs\n",
    "\n",
    "data = np.array([height,weight])\n",
    "print(data)"
   ]
  },
  {
   "cell_type": "code",
   "execution_count": 65,
   "id": "95ccea1c",
   "metadata": {},
   "outputs": [
    {
     "name": "stdout",
     "output_type": "stream",
     "text": [
      "(2, 6)\n",
      "2\n"
     ]
    }
   ],
   "source": [
    "print(data.shape) # 2 rows and 6 columns\n",
    "print(data.ndim)"
   ]
  },
  {
   "cell_type": "code",
   "execution_count": 66,
   "id": "41bff76c",
   "metadata": {},
   "outputs": [
    {
     "name": "stdout",
     "output_type": "stream",
     "text": [
      "(6,)\n",
      "1\n"
     ]
    }
   ],
   "source": [
    "print(np_height.shape) # 1 dimensional, so only one number\n",
    "print(np_height.ndim)"
   ]
  },
  {
   "cell_type": "code",
   "execution_count": 67,
   "id": "992c6c60",
   "metadata": {},
   "outputs": [
    {
     "data": {
      "text/plain": [
       "dtype('int32')"
      ]
     },
     "execution_count": 67,
     "metadata": {},
     "output_type": "execute_result"
    }
   ],
   "source": [
    "data.dtype"
   ]
  },
  {
   "cell_type": "code",
   "execution_count": 77,
   "id": "329dd784",
   "metadata": {},
   "outputs": [
    {
     "data": {
      "text/plain": [
       "array([ 68, 165])"
      ]
     },
     "execution_count": 77,
     "metadata": {},
     "output_type": "execute_result"
    }
   ],
   "source": [
    "data[0] # returns the first row of data: [72 68 69 68 64 72]\n",
    "data[0,1] # returns the element in the first row and second col: 68, equivalen to data[0][1]\n",
    "data[:,1] # returns te second column: [68 165]"
   ]
  },
  {
   "cell_type": "code",
   "execution_count": 82,
   "id": "ab5920f5",
   "metadata": {},
   "outputs": [
    {
     "name": "stdout",
     "output_type": "stream",
     "text": [
      "[1 2 3 4 5 6 7 8 9]\n",
      "[[1 2 3]\n",
      " [4 5 6]\n",
      " [7 8 9]]\n",
      "[1 2 3 4 5 6 7 8 9]\n",
      "[[1 2 3]\n",
      " [4 5 6]\n",
      " [7 8 9]]\n"
     ]
    }
   ],
   "source": [
    "# reshape() vs resize()\n",
    "x = np.arange(1,10,1)\n",
    "print(x)\n",
    "print(x.reshape(3,3))\n",
    "print(x)\n",
    "x.resize(3,3) # same as reshape(), but overwrites the original object\n",
    "print(x)"
   ]
  },
  {
   "cell_type": "code",
   "execution_count": 13,
   "id": "d4747f53",
   "metadata": {},
   "outputs": [
    {
     "name": "stdout",
     "output_type": "stream",
     "text": [
      "[ 1  2  3  4  5  6  7  8  9 10 11 12 13 14 15]\n",
      "[[ 1  2  3]\n",
      " [ 4  5  6]\n",
      " [ 7  8  9]\n",
      " [10 11 12]\n",
      " [13 14 15]]\n"
     ]
    }
   ],
   "source": [
    "# useful trick\n",
    "y = np.arange(1,16)\n",
    "print(y)\n",
    "print(y.reshape(5,-1)) # -1 wildcard, numpy figures out how many cols you must have with the row # given"
   ]
  },
  {
   "cell_type": "code",
   "execution_count": null,
   "id": "94ecaddf",
   "metadata": {},
   "outputs": [],
   "source": []
  },
  {
   "cell_type": "code",
   "execution_count": 8,
   "id": "e7a547b9",
   "metadata": {},
   "outputs": [
    {
     "data": {
      "text/plain": [
       "array([27.1219, 25.0854, 23.6253, 20.5244, 20.5957, 27.1219])"
      ]
     },
     "execution_count": 8,
     "metadata": {},
     "output_type": "execute_result"
    }
   ],
   "source": [
    "# calculate bmi of each person using their height and weight data\n",
    "# bmi = 703 * weight / height^2\n",
    "# note: for squaring numbers in python you should use : \"**\"\n",
    "# do this without numpy and with numpy\n",
    "\n",
    "# optional: create a function called bmi_calculator that takes in\n",
    "# two lists (one for height another for weight) and returns\n",
    "# the calculated bmi values as a list/numpy array\n",
    "\n",
    "# 2d arrays, aka matrices\n",
    "height = [72, 68, 69, 68, 64, 72] # some height data in inches\n",
    "weight = [200, 165, 160, 135, 120, 200] # some weight data in lbs\n",
    "\n",
    "# without numpy:\n",
    "#for i in range(len(height)):\n",
    "#    print(703 * weight[i] / height[i]**2)\n",
    "    \n",
    "# with numpy\n",
    "#703 * np.array(weight) / np.array(height)**2\n",
    "\n",
    "# just to round values with np.round()\n",
    "#print(np.round(703 * np.array(weight) / np.array(height)**2, 4))\n",
    "\n",
    "def bmi_calculator(height,weight):\n",
    "    return(np.round(703 * np.array(weight) / np.array(height)**2, 4))\n",
    "bmi_calculator(height,weight)"
   ]
  },
  {
   "cell_type": "code",
   "execution_count": 14,
   "id": "72254446",
   "metadata": {},
   "outputs": [
    {
     "data": {
      "text/plain": [
       "[[72, 68, 69, 68, 64, 72], [200, 165, 160, 135, 120, 200]]"
      ]
     },
     "execution_count": 14,
     "metadata": {},
     "output_type": "execute_result"
    }
   ],
   "source": [
    "data = [height,weight]\n",
    "data"
   ]
  },
  {
   "cell_type": "code",
   "execution_count": 31,
   "id": "8c578fb7",
   "metadata": {},
   "outputs": [
    {
     "name": "stdout",
     "output_type": "stream",
     "text": [
      "1393\n",
      "[413 980]\n",
      "[ 68.5 162.5]\n",
      "[ 68.83333333 163.33333333]\n",
      "[ 64 120]\n",
      "[ 72 200]\n",
      "[ 2.73353658 29.95366793]\n",
      "3.141592653589793\n",
      "180.0\n",
      "3.141592653589793\n",
      "1.7724538509055159\n",
      "0.0\n"
     ]
    }
   ],
   "source": [
    "# numpy functions for statistics\n",
    "print(np.sum(data)) # adds everything\n",
    "print(np.sum(data,axis=1)) # sums of heights and weights are returned\n",
    "print(np.median(data,axis=1)) # medians of heights and weights\n",
    "print(np.mean(data,axis=1)) # means of heights and weights\n",
    "print(np.min(data,axis=1)) # mins of heights and weights\n",
    "print(np.max(data,axis=1)) # max of heights and weights\n",
    "print(np.std(data,axis=1)) # std dev of heights and weights\n",
    "\n",
    "# numpy functions for numeric computing\n",
    "print(np.pi) # returns pi\n",
    "print(np.rad2deg(np.pi)) # returns 180 degrees\n",
    "print(np.deg2rad(180)) # returns pi\n",
    "print(np.sqrt(np.pi))\n",
    "print(np.sin(0)) # trigonomic funcs"
   ]
  },
  {
   "cell_type": "code",
   "execution_count": 36,
   "id": "71793b35",
   "metadata": {},
   "outputs": [
    {
     "name": "stdout",
     "output_type": "stream",
     "text": [
      "[[[10 20 30]\n",
      "  [40 50 60]]\n",
      "\n",
      " [[15 25 35]\n",
      "  [45 55 65]]\n",
      "\n",
      " [[70 80 90]\n",
      "  [75 85 95]]]\n",
      "(3, 2, 3)\n",
      "3\n"
     ]
    }
   ],
   "source": [
    "# higher dimensional arrays\n",
    "threeD = np.array([[[10,20,30],[40,50,60]],[[15,25,35],[45,55,65]],[[70,80,90],[75,85,95]]])\n",
    "print(threeD)\n",
    "print(threeD.shape) # order is: matrix pos, row, col\n",
    "print(threeD.ndim) # 3 dimensions"
   ]
  },
  {
   "cell_type": "code",
   "execution_count": 42,
   "id": "1743a6ca",
   "metadata": {},
   "outputs": [
    {
     "name": "stdout",
     "output_type": "stream",
     "text": [
      "20\n",
      "20\n"
     ]
    }
   ],
   "source": [
    "print(threeD[0,0,1]) # element in first matrix, first row, second col\n",
    "print(threeD[0][0][1]) # equivalent"
   ]
  },
  {
   "cell_type": "code",
   "execution_count": 45,
   "id": "570ff004",
   "metadata": {},
   "outputs": [
    {
     "data": {
      "text/plain": [
       "array([40, 50, 60])"
      ]
     },
     "execution_count": 45,
     "metadata": {},
     "output_type": "execute_result"
    }
   ],
   "source": [
    "threeD[0,1] # number of dimensions decreases as you make further index selections"
   ]
  },
  {
   "cell_type": "code",
   "execution_count": 59,
   "id": "a3fdaf24",
   "metadata": {},
   "outputs": [
    {
     "name": "stdout",
     "output_type": "stream",
     "text": [
      "[[ 0  0  0]\n",
      " [10 10 10]\n",
      " [20 20 20]\n",
      " [30 30 30]]\n",
      "(4, 3)\n",
      "[0 1 2]\n",
      "(3,)\n",
      "[[ 0  1  2]\n",
      " [10 11 12]\n",
      " [20 21 22]\n",
      " [30 31 32]]\n",
      "[0 1 2 3]\n",
      "[[ 0  0  0]\n",
      " [11 11 11]\n",
      " [22 22 22]\n",
      " [33 33 33]]\n"
     ]
    }
   ],
   "source": [
    "a = np.array([[0,0,0],[10,10,10],[20,20,20],[30,30,30]])\n",
    "print(a)\n",
    "print(a.shape)\n",
    "b = np.array([0,1,2])\n",
    "print(b)\n",
    "print(b.shape)\n",
    "print(a+b)\n",
    "c = np.array([0,1,2,3])\n",
    "print(c)\n",
    "#print(a+c)\n",
    "# practice: can you reshape c such that a+c is valid?\n",
    "print(a + c.reshape(4,1)) # works now, dimensions agree with each other!"
   ]
  },
  {
   "cell_type": "code",
   "execution_count": null,
   "id": "9686f048",
   "metadata": {},
   "outputs": [],
   "source": []
  }
 ],
 "metadata": {
  "kernelspec": {
   "display_name": "Python 3 (ipykernel)",
   "language": "python",
   "name": "python3"
  },
  "language_info": {
   "codemirror_mode": {
    "name": "ipython",
    "version": 3
   },
   "file_extension": ".py",
   "mimetype": "text/x-python",
   "name": "python",
   "nbconvert_exporter": "python",
   "pygments_lexer": "ipython3",
   "version": "3.9.16"
  }
 },
 "nbformat": 4,
 "nbformat_minor": 5
}
